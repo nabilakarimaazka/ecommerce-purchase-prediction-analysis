{
 "cells": [
  {
   "cell_type": "code",
   "execution_count": 4,
   "id": "66d81749-14b1-43ea-b847-4c7ec04d72e5",
   "metadata": {
    "id": "66d81749-14b1-43ea-b847-4c7ec04d72e5"
   },
   "outputs": [],
   "source": [
    "import numpy as np\n",
    "import pandas as pd\n",
    "import matplotlib.pyplot as plt\n",
    "import seaborn as sns"
   ]
  },
  {
   "cell_type": "code",
   "execution_count": 5,
   "id": "7307d809-ae57-4a33-afa0-6a04800819b0",
   "metadata": {
    "id": "7307d809-ae57-4a33-afa0-6a04800819b0"
   },
   "outputs": [],
   "source": [
    "df = pd.read_csv('online_shoppers_intention.csv')"
   ]
  },
  {
   "cell_type": "code",
   "execution_count": 6,
   "id": "fb953851-6700-4587-af3f-2c213d10b89a",
   "metadata": {
    "colab": {
     "base_uri": "https://localhost:8080/",
     "height": 226
    },
    "id": "fb953851-6700-4587-af3f-2c213d10b89a",
    "outputId": "a2db2685-56b9-4b67-de4f-ae5d0645a9c5"
   },
   "outputs": [
    {
     "data": {
      "text/html": [
       "\n",
       "  <div id=\"df-3e244b11-4643-4da9-8350-e65c3c0f28da\" class=\"colab-df-container\">\n",
       "    <div>\n",
       "<style scoped>\n",
       "    .dataframe tbody tr th:only-of-type {\n",
       "        vertical-align: middle;\n",
       "    }\n",
       "\n",
       "    .dataframe tbody tr th {\n",
       "        vertical-align: top;\n",
       "    }\n",
       "\n",
       "    .dataframe thead th {\n",
       "        text-align: right;\n",
       "    }\n",
       "</style>\n",
       "<table border=\"1\" class=\"dataframe\">\n",
       "  <thead>\n",
       "    <tr style=\"text-align: right;\">\n",
       "      <th></th>\n",
       "      <th>Administrative</th>\n",
       "      <th>Administrative_Duration</th>\n",
       "      <th>Informational</th>\n",
       "      <th>Informational_Duration</th>\n",
       "      <th>ProductRelated</th>\n",
       "      <th>ProductRelated_Duration</th>\n",
       "      <th>BounceRates</th>\n",
       "      <th>ExitRates</th>\n",
       "      <th>PageValues</th>\n",
       "      <th>SpecialDay</th>\n",
       "      <th>Month</th>\n",
       "      <th>OperatingSystems</th>\n",
       "      <th>Browser</th>\n",
       "      <th>Region</th>\n",
       "      <th>TrafficType</th>\n",
       "      <th>VisitorType</th>\n",
       "      <th>Weekend</th>\n",
       "      <th>Revenue</th>\n",
       "    </tr>\n",
       "  </thead>\n",
       "  <tbody>\n",
       "    <tr>\n",
       "      <th>0</th>\n",
       "      <td>0</td>\n",
       "      <td>0.0</td>\n",
       "      <td>0</td>\n",
       "      <td>0.0</td>\n",
       "      <td>1</td>\n",
       "      <td>0.000000</td>\n",
       "      <td>0.20</td>\n",
       "      <td>0.20</td>\n",
       "      <td>0.0</td>\n",
       "      <td>0.0</td>\n",
       "      <td>Feb</td>\n",
       "      <td>1</td>\n",
       "      <td>1</td>\n",
       "      <td>1</td>\n",
       "      <td>1</td>\n",
       "      <td>Returning_Visitor</td>\n",
       "      <td>False</td>\n",
       "      <td>False</td>\n",
       "    </tr>\n",
       "    <tr>\n",
       "      <th>1</th>\n",
       "      <td>0</td>\n",
       "      <td>0.0</td>\n",
       "      <td>0</td>\n",
       "      <td>0.0</td>\n",
       "      <td>2</td>\n",
       "      <td>64.000000</td>\n",
       "      <td>0.00</td>\n",
       "      <td>0.10</td>\n",
       "      <td>0.0</td>\n",
       "      <td>0.0</td>\n",
       "      <td>Feb</td>\n",
       "      <td>2</td>\n",
       "      <td>2</td>\n",
       "      <td>1</td>\n",
       "      <td>2</td>\n",
       "      <td>Returning_Visitor</td>\n",
       "      <td>False</td>\n",
       "      <td>False</td>\n",
       "    </tr>\n",
       "    <tr>\n",
       "      <th>2</th>\n",
       "      <td>0</td>\n",
       "      <td>0.0</td>\n",
       "      <td>0</td>\n",
       "      <td>0.0</td>\n",
       "      <td>1</td>\n",
       "      <td>0.000000</td>\n",
       "      <td>0.20</td>\n",
       "      <td>0.20</td>\n",
       "      <td>0.0</td>\n",
       "      <td>0.0</td>\n",
       "      <td>Feb</td>\n",
       "      <td>4</td>\n",
       "      <td>1</td>\n",
       "      <td>9</td>\n",
       "      <td>3</td>\n",
       "      <td>Returning_Visitor</td>\n",
       "      <td>False</td>\n",
       "      <td>False</td>\n",
       "    </tr>\n",
       "    <tr>\n",
       "      <th>3</th>\n",
       "      <td>0</td>\n",
       "      <td>0.0</td>\n",
       "      <td>0</td>\n",
       "      <td>0.0</td>\n",
       "      <td>2</td>\n",
       "      <td>2.666667</td>\n",
       "      <td>0.05</td>\n",
       "      <td>0.14</td>\n",
       "      <td>0.0</td>\n",
       "      <td>0.0</td>\n",
       "      <td>Feb</td>\n",
       "      <td>3</td>\n",
       "      <td>2</td>\n",
       "      <td>2</td>\n",
       "      <td>4</td>\n",
       "      <td>Returning_Visitor</td>\n",
       "      <td>False</td>\n",
       "      <td>False</td>\n",
       "    </tr>\n",
       "    <tr>\n",
       "      <th>4</th>\n",
       "      <td>0</td>\n",
       "      <td>0.0</td>\n",
       "      <td>0</td>\n",
       "      <td>0.0</td>\n",
       "      <td>10</td>\n",
       "      <td>627.500000</td>\n",
       "      <td>0.02</td>\n",
       "      <td>0.05</td>\n",
       "      <td>0.0</td>\n",
       "      <td>0.0</td>\n",
       "      <td>Feb</td>\n",
       "      <td>3</td>\n",
       "      <td>3</td>\n",
       "      <td>1</td>\n",
       "      <td>4</td>\n",
       "      <td>Returning_Visitor</td>\n",
       "      <td>True</td>\n",
       "      <td>False</td>\n",
       "    </tr>\n",
       "  </tbody>\n",
       "</table>\n",
       "</div>\n",
       "    <div class=\"colab-df-buttons\">\n",
       "\n",
       "  <div class=\"colab-df-container\">\n",
       "    <button class=\"colab-df-convert\" onclick=\"convertToInteractive('df-3e244b11-4643-4da9-8350-e65c3c0f28da')\"\n",
       "            title=\"Convert this dataframe to an interactive table.\"\n",
       "            style=\"display:none;\">\n",
       "\n",
       "  <svg xmlns=\"http://www.w3.org/2000/svg\" height=\"24px\" viewBox=\"0 -960 960 960\">\n",
       "    <path d=\"M120-120v-720h720v720H120Zm60-500h600v-160H180v160Zm220 220h160v-160H400v160Zm0 220h160v-160H400v160ZM180-400h160v-160H180v160Zm440 0h160v-160H620v160ZM180-180h160v-160H180v160Zm440 0h160v-160H620v160Z\"/>\n",
       "  </svg>\n",
       "    </button>\n",
       "\n",
       "  <style>\n",
       "    .colab-df-container {\n",
       "      display:flex;\n",
       "      gap: 12px;\n",
       "    }\n",
       "\n",
       "    .colab-df-convert {\n",
       "      background-color: #E8F0FE;\n",
       "      border: none;\n",
       "      border-radius: 50%;\n",
       "      cursor: pointer;\n",
       "      display: none;\n",
       "      fill: #1967D2;\n",
       "      height: 32px;\n",
       "      padding: 0 0 0 0;\n",
       "      width: 32px;\n",
       "    }\n",
       "\n",
       "    .colab-df-convert:hover {\n",
       "      background-color: #E2EBFA;\n",
       "      box-shadow: 0px 1px 2px rgba(60, 64, 67, 0.3), 0px 1px 3px 1px rgba(60, 64, 67, 0.15);\n",
       "      fill: #174EA6;\n",
       "    }\n",
       "\n",
       "    .colab-df-buttons div {\n",
       "      margin-bottom: 4px;\n",
       "    }\n",
       "\n",
       "    [theme=dark] .colab-df-convert {\n",
       "      background-color: #3B4455;\n",
       "      fill: #D2E3FC;\n",
       "    }\n",
       "\n",
       "    [theme=dark] .colab-df-convert:hover {\n",
       "      background-color: #434B5C;\n",
       "      box-shadow: 0px 1px 3px 1px rgba(0, 0, 0, 0.15);\n",
       "      filter: drop-shadow(0px 1px 2px rgba(0, 0, 0, 0.3));\n",
       "      fill: #FFFFFF;\n",
       "    }\n",
       "  </style>\n",
       "\n",
       "    <script>\n",
       "      const buttonEl =\n",
       "        document.querySelector('#df-3e244b11-4643-4da9-8350-e65c3c0f28da button.colab-df-convert');\n",
       "      buttonEl.style.display =\n",
       "        google.colab.kernel.accessAllowed ? 'block' : 'none';\n",
       "\n",
       "      async function convertToInteractive(key) {\n",
       "        const element = document.querySelector('#df-3e244b11-4643-4da9-8350-e65c3c0f28da');\n",
       "        const dataTable =\n",
       "          await google.colab.kernel.invokeFunction('convertToInteractive',\n",
       "                                                    [key], {});\n",
       "        if (!dataTable) return;\n",
       "\n",
       "        const docLinkHtml = 'Like what you see? Visit the ' +\n",
       "          '<a target=\"_blank\" href=https://colab.research.google.com/notebooks/data_table.ipynb>data table notebook</a>'\n",
       "          + ' to learn more about interactive tables.';\n",
       "        element.innerHTML = '';\n",
       "        dataTable['output_type'] = 'display_data';\n",
       "        await google.colab.output.renderOutput(dataTable, element);\n",
       "        const docLink = document.createElement('div');\n",
       "        docLink.innerHTML = docLinkHtml;\n",
       "        element.appendChild(docLink);\n",
       "      }\n",
       "    </script>\n",
       "  </div>\n",
       "\n",
       "\n",
       "<div id=\"df-cfa6842d-d1f3-4fdf-8cb6-edc171cc03e0\">\n",
       "  <button class=\"colab-df-quickchart\" onclick=\"quickchart('df-cfa6842d-d1f3-4fdf-8cb6-edc171cc03e0')\"\n",
       "            title=\"Suggest charts\"\n",
       "            style=\"display:none;\">\n",
       "\n",
       "<svg xmlns=\"http://www.w3.org/2000/svg\" height=\"24px\"viewBox=\"0 0 24 24\"\n",
       "     width=\"24px\">\n",
       "    <g>\n",
       "        <path d=\"M19 3H5c-1.1 0-2 .9-2 2v14c0 1.1.9 2 2 2h14c1.1 0 2-.9 2-2V5c0-1.1-.9-2-2-2zM9 17H7v-7h2v7zm4 0h-2V7h2v10zm4 0h-2v-4h2v4z\"/>\n",
       "    </g>\n",
       "</svg>\n",
       "  </button>\n",
       "\n",
       "<style>\n",
       "  .colab-df-quickchart {\n",
       "      --bg-color: #E8F0FE;\n",
       "      --fill-color: #1967D2;\n",
       "      --hover-bg-color: #E2EBFA;\n",
       "      --hover-fill-color: #174EA6;\n",
       "      --disabled-fill-color: #AAA;\n",
       "      --disabled-bg-color: #DDD;\n",
       "  }\n",
       "\n",
       "  [theme=dark] .colab-df-quickchart {\n",
       "      --bg-color: #3B4455;\n",
       "      --fill-color: #D2E3FC;\n",
       "      --hover-bg-color: #434B5C;\n",
       "      --hover-fill-color: #FFFFFF;\n",
       "      --disabled-bg-color: #3B4455;\n",
       "      --disabled-fill-color: #666;\n",
       "  }\n",
       "\n",
       "  .colab-df-quickchart {\n",
       "    background-color: var(--bg-color);\n",
       "    border: none;\n",
       "    border-radius: 50%;\n",
       "    cursor: pointer;\n",
       "    display: none;\n",
       "    fill: var(--fill-color);\n",
       "    height: 32px;\n",
       "    padding: 0;\n",
       "    width: 32px;\n",
       "  }\n",
       "\n",
       "  .colab-df-quickchart:hover {\n",
       "    background-color: var(--hover-bg-color);\n",
       "    box-shadow: 0 1px 2px rgba(60, 64, 67, 0.3), 0 1px 3px 1px rgba(60, 64, 67, 0.15);\n",
       "    fill: var(--button-hover-fill-color);\n",
       "  }\n",
       "\n",
       "  .colab-df-quickchart-complete:disabled,\n",
       "  .colab-df-quickchart-complete:disabled:hover {\n",
       "    background-color: var(--disabled-bg-color);\n",
       "    fill: var(--disabled-fill-color);\n",
       "    box-shadow: none;\n",
       "  }\n",
       "\n",
       "  .colab-df-spinner {\n",
       "    border: 2px solid var(--fill-color);\n",
       "    border-color: transparent;\n",
       "    border-bottom-color: var(--fill-color);\n",
       "    animation:\n",
       "      spin 1s steps(1) infinite;\n",
       "  }\n",
       "\n",
       "  @keyframes spin {\n",
       "    0% {\n",
       "      border-color: transparent;\n",
       "      border-bottom-color: var(--fill-color);\n",
       "      border-left-color: var(--fill-color);\n",
       "    }\n",
       "    20% {\n",
       "      border-color: transparent;\n",
       "      border-left-color: var(--fill-color);\n",
       "      border-top-color: var(--fill-color);\n",
       "    }\n",
       "    30% {\n",
       "      border-color: transparent;\n",
       "      border-left-color: var(--fill-color);\n",
       "      border-top-color: var(--fill-color);\n",
       "      border-right-color: var(--fill-color);\n",
       "    }\n",
       "    40% {\n",
       "      border-color: transparent;\n",
       "      border-right-color: var(--fill-color);\n",
       "      border-top-color: var(--fill-color);\n",
       "    }\n",
       "    60% {\n",
       "      border-color: transparent;\n",
       "      border-right-color: var(--fill-color);\n",
       "    }\n",
       "    80% {\n",
       "      border-color: transparent;\n",
       "      border-right-color: var(--fill-color);\n",
       "      border-bottom-color: var(--fill-color);\n",
       "    }\n",
       "    90% {\n",
       "      border-color: transparent;\n",
       "      border-bottom-color: var(--fill-color);\n",
       "    }\n",
       "  }\n",
       "</style>\n",
       "\n",
       "  <script>\n",
       "    async function quickchart(key) {\n",
       "      const quickchartButtonEl =\n",
       "        document.querySelector('#' + key + ' button');\n",
       "      quickchartButtonEl.disabled = true;  // To prevent multiple clicks.\n",
       "      quickchartButtonEl.classList.add('colab-df-spinner');\n",
       "      try {\n",
       "        const charts = await google.colab.kernel.invokeFunction(\n",
       "            'suggestCharts', [key], {});\n",
       "      } catch (error) {\n",
       "        console.error('Error during call to suggestCharts:', error);\n",
       "      }\n",
       "      quickchartButtonEl.classList.remove('colab-df-spinner');\n",
       "      quickchartButtonEl.classList.add('colab-df-quickchart-complete');\n",
       "    }\n",
       "    (() => {\n",
       "      let quickchartButtonEl =\n",
       "        document.querySelector('#df-cfa6842d-d1f3-4fdf-8cb6-edc171cc03e0 button');\n",
       "      quickchartButtonEl.style.display =\n",
       "        google.colab.kernel.accessAllowed ? 'block' : 'none';\n",
       "    })();\n",
       "  </script>\n",
       "</div>\n",
       "    </div>\n",
       "  </div>\n"
      ],
      "text/plain": [
       "   Administrative  Administrative_Duration  Informational  \\\n",
       "0               0                      0.0              0   \n",
       "1               0                      0.0              0   \n",
       "2               0                      0.0              0   \n",
       "3               0                      0.0              0   \n",
       "4               0                      0.0              0   \n",
       "\n",
       "   Informational_Duration  ProductRelated  ProductRelated_Duration  \\\n",
       "0                     0.0               1                 0.000000   \n",
       "1                     0.0               2                64.000000   \n",
       "2                     0.0               1                 0.000000   \n",
       "3                     0.0               2                 2.666667   \n",
       "4                     0.0              10               627.500000   \n",
       "\n",
       "   BounceRates  ExitRates  PageValues  SpecialDay Month  OperatingSystems  \\\n",
       "0         0.20       0.20         0.0         0.0   Feb                 1   \n",
       "1         0.00       0.10         0.0         0.0   Feb                 2   \n",
       "2         0.20       0.20         0.0         0.0   Feb                 4   \n",
       "3         0.05       0.14         0.0         0.0   Feb                 3   \n",
       "4         0.02       0.05         0.0         0.0   Feb                 3   \n",
       "\n",
       "   Browser  Region  TrafficType        VisitorType  Weekend  Revenue  \n",
       "0        1       1            1  Returning_Visitor    False    False  \n",
       "1        2       1            2  Returning_Visitor    False    False  \n",
       "2        1       9            3  Returning_Visitor    False    False  \n",
       "3        2       2            4  Returning_Visitor    False    False  \n",
       "4        3       1            4  Returning_Visitor     True    False  "
      ]
     },
     "execution_count": 6,
     "metadata": {},
     "output_type": "execute_result"
    }
   ],
   "source": [
    "df.head()"
   ]
  },
  {
   "cell_type": "code",
   "execution_count": 7,
   "id": "adf66b35-d496-4f2e-b6d3-16c10e5a7b6f",
   "metadata": {
    "colab": {
     "base_uri": "https://localhost:8080/"
    },
    "id": "adf66b35-d496-4f2e-b6d3-16c10e5a7b6f",
    "outputId": "f06efffb-014c-4ce4-81d6-f6b35c692904"
   },
   "outputs": [
    {
     "name": "stdout",
     "output_type": "stream",
     "text": [
      "<class 'pandas.core.frame.DataFrame'>\n",
      "RangeIndex: 12330 entries, 0 to 12329\n",
      "Data columns (total 18 columns):\n",
      " #   Column                   Non-Null Count  Dtype  \n",
      "---  ------                   --------------  -----  \n",
      " 0   Administrative           12330 non-null  int64  \n",
      " 1   Administrative_Duration  12330 non-null  float64\n",
      " 2   Informational            12330 non-null  int64  \n",
      " 3   Informational_Duration   12330 non-null  float64\n",
      " 4   ProductRelated           12330 non-null  int64  \n",
      " 5   ProductRelated_Duration  12330 non-null  float64\n",
      " 6   BounceRates              12330 non-null  float64\n",
      " 7   ExitRates                12330 non-null  float64\n",
      " 8   PageValues               12330 non-null  float64\n",
      " 9   SpecialDay               12330 non-null  float64\n",
      " 10  Month                    12330 non-null  object \n",
      " 11  OperatingSystems         12330 non-null  int64  \n",
      " 12  Browser                  12330 non-null  int64  \n",
      " 13  Region                   12330 non-null  int64  \n",
      " 14  TrafficType              12330 non-null  int64  \n",
      " 15  VisitorType              12330 non-null  object \n",
      " 16  Weekend                  12330 non-null  bool   \n",
      " 17  Revenue                  12330 non-null  bool   \n",
      "dtypes: bool(2), float64(7), int64(7), object(2)\n",
      "memory usage: 1.5+ MB\n"
     ]
    }
   ],
   "source": [
    "df.info()"
   ]
  },
  {
   "cell_type": "code",
   "execution_count": 8,
   "id": "91e23f59-faf4-4751-b0af-0ea58ea266bc",
   "metadata": {
    "colab": {
     "base_uri": "https://localhost:8080/"
    },
    "id": "91e23f59-faf4-4751-b0af-0ea58ea266bc",
    "outputId": "588febb1-4379-4f60-a4a0-5c53e5c4db97"
   },
   "outputs": [
    {
     "data": {
      "text/plain": [
       "Administrative             0\n",
       "Administrative_Duration    0\n",
       "Informational              0\n",
       "Informational_Duration     0\n",
       "ProductRelated             0\n",
       "ProductRelated_Duration    0\n",
       "BounceRates                0\n",
       "ExitRates                  0\n",
       "PageValues                 0\n",
       "SpecialDay                 0\n",
       "Month                      0\n",
       "OperatingSystems           0\n",
       "Browser                    0\n",
       "Region                     0\n",
       "TrafficType                0\n",
       "VisitorType                0\n",
       "Weekend                    0\n",
       "Revenue                    0\n",
       "dtype: int64"
      ]
     },
     "execution_count": 8,
     "metadata": {},
     "output_type": "execute_result"
    }
   ],
   "source": [
    "df.isnull().sum()"
   ]
  },
  {
   "cell_type": "code",
   "execution_count": 9,
   "id": "67392cd5-8d80-4961-8fe3-55af42515a44",
   "metadata": {
    "colab": {
     "base_uri": "https://localhost:8080/"
    },
    "id": "67392cd5-8d80-4961-8fe3-55af42515a44",
    "outputId": "fed9193a-1f5f-4412-a797-957ce10922ce"
   },
   "outputs": [
    {
     "data": {
      "text/plain": [
       "18"
      ]
     },
     "execution_count": 9,
     "metadata": {},
     "output_type": "execute_result"
    }
   ],
   "source": [
    "len(df.columns)"
   ]
  },
  {
   "cell_type": "markdown",
   "id": "63f3f27b-daf2-4987-8fac-5561f359592b",
   "metadata": {
    "id": "63f3f27b-daf2-4987-8fac-5561f359592b"
   },
   "source": [
    "Pada kasus ini, saya memutuskan untuk menghapus kolom 'Administrative', 'Informational', dan 'ProductRelated' karena kolom-kolom tersebut mewakili jumlah halaman yang dikunjungi oleh pengguna dalam masing-masing kategori, dan total jumlah halaman yang dikunjungi sudah tercakup oleh kolom 'PageValues'. Oleh karena itu, kolom-kolom ini dianggap tidak perlu dan tidak berguna untuk analisis."
   ]
  },
  {
   "cell_type": "code",
   "execution_count": 10,
   "id": "f32edd24-5af3-44d9-ac4d-879cb0359432",
   "metadata": {
    "id": "f32edd24-5af3-44d9-ac4d-879cb0359432"
   },
   "outputs": [],
   "source": [
    "df = df.drop(['Administrative', 'Informational', 'ProductRelated'], axis=1)"
   ]
  },
  {
   "cell_type": "code",
   "execution_count": 11,
   "id": "50e7ba3e-af67-494e-9488-fc9089333b70",
   "metadata": {
    "colab": {
     "base_uri": "https://localhost:8080/"
    },
    "id": "50e7ba3e-af67-494e-9488-fc9089333b70",
    "outputId": "96eba8a1-fa9b-476a-d1cb-172947ae0802"
   },
   "outputs": [
    {
     "data": {
      "text/plain": [
       "15"
      ]
     },
     "execution_count": 11,
     "metadata": {},
     "output_type": "execute_result"
    }
   ],
   "source": [
    "len(df.columns)"
   ]
  },
  {
   "cell_type": "markdown",
   "id": "ba6b367f-bd7d-4000-b955-f6a3e9c3092c",
   "metadata": {
    "id": "ba6b367f-bd7d-4000-b955-f6a3e9c3092c"
   },
   "source": [
    "Pada dataset, terdapat beberapa kolom dengan variabel kategori, seperti 'Month', 'VisitorType', 'OperatingSystem', dan 'Browser'.\n",
    "\n",
    "Algoritma machine learning umumnya membutuhkan inputan numerik, maka dari itu kita perlu mengubah data kategorikal kedalam format numerik. Pada prject ini saya akan menggunakan teknik Label encoding untuk mengkonversi variabel kategori ke format numerik"
   ]
  },
  {
   "cell_type": "markdown",
   "id": "93723134-6139-4086-b919-011672de21ca",
   "metadata": {
    "id": "93723134-6139-4086-b919-011672de21ca"
   },
   "source": [
    "Label encoding memberikan nilai numerik yang unik untuk setiap kategori variabel. Sebagai contoh, untuk kolom 'Month', kita dapat memberikan nilai numerik 1 untuk bulan Januari, 2 untuk bulan Februari, dan seterusnya. Pengkodean label cocok untuk variabel kategorikal yang memiliki urutan alami, seperti 'Month' dan 'VisitorType'.\n"
   ]
  },
  {
   "cell_type": "code",
   "execution_count": 12,
   "id": "076dc6ed-c0c7-4194-9911-0b96f647768c",
   "metadata": {
    "id": "076dc6ed-c0c7-4194-9911-0b96f647768c"
   },
   "outputs": [],
   "source": [
    "from sklearn.preprocessing import LabelEncoder"
   ]
  },
  {
   "cell_type": "code",
   "execution_count": 13,
   "id": "9dda29a4-e955-4e14-a2fd-7b9a6a06f549",
   "metadata": {
    "colab": {
     "base_uri": "https://localhost:8080/"
    },
    "id": "9dda29a4-e955-4e14-a2fd-7b9a6a06f549",
    "outputId": "3e4a8150-51ba-4793-d90e-d2e32f96c0db"
   },
   "outputs": [
    {
     "name": "stdout",
     "output_type": "stream",
     "text": [
      "Column: Weekend\n",
      "Original categories: [False  True]\n",
      "Encoder values: [0 1]\n",
      "\n",
      "\n",
      "Column: Revenue\n",
      "Original categories: [False  True]\n",
      "Encoder values: [0 1]\n",
      "\n",
      "\n"
     ]
    }
   ],
   "source": [
    "categorical_columns = ['Weekend', 'Revenue']\n",
    "for col in categorical_columns:\n",
    "    encoder = LabelEncoder()\n",
    "    encoder.fit(df[col])\n",
    "    print('Column:', col)\n",
    "    print('Original categories:', encoder.classes_)\n",
    "    print('Encoder values:', encoder.transform(encoder.classes_))\n",
    "    print('\\n')\n",
    "    df[col] = encoder.fit_transform(df[col])"
   ]
  },
  {
   "cell_type": "code",
   "execution_count": 14,
   "id": "c16857c2-8b49-4c20-8f8f-ecb94f408c06",
   "metadata": {
    "id": "c16857c2-8b49-4c20-8f8f-ecb94f408c06"
   },
   "outputs": [],
   "source": [
    "df['Month'] = df['Month'].map({'Feb': 2, 'Mar':3, 'May':5, 'June':6,'Jul':7,'Aug':8,'Sep':9,'Oct':10,'Nov':11,'Dec':12})"
   ]
  },
  {
   "cell_type": "code",
   "execution_count": 15,
   "id": "bc2aaf6e-3660-495e-924c-09c67b462489",
   "metadata": {
    "colab": {
     "base_uri": "https://localhost:8080/",
     "height": 226
    },
    "id": "bc2aaf6e-3660-495e-924c-09c67b462489",
    "outputId": "b72a999e-8c2b-47ec-a400-ca6b56a2bf02"
   },
   "outputs": [
    {
     "data": {
      "text/html": [
       "\n",
       "  <div id=\"df-006617c4-7ae3-4c03-a2c5-fa12f3273e45\" class=\"colab-df-container\">\n",
       "    <div>\n",
       "<style scoped>\n",
       "    .dataframe tbody tr th:only-of-type {\n",
       "        vertical-align: middle;\n",
       "    }\n",
       "\n",
       "    .dataframe tbody tr th {\n",
       "        vertical-align: top;\n",
       "    }\n",
       "\n",
       "    .dataframe thead th {\n",
       "        text-align: right;\n",
       "    }\n",
       "</style>\n",
       "<table border=\"1\" class=\"dataframe\">\n",
       "  <thead>\n",
       "    <tr style=\"text-align: right;\">\n",
       "      <th></th>\n",
       "      <th>Administrative_Duration</th>\n",
       "      <th>Informational_Duration</th>\n",
       "      <th>ProductRelated_Duration</th>\n",
       "      <th>BounceRates</th>\n",
       "      <th>ExitRates</th>\n",
       "      <th>PageValues</th>\n",
       "      <th>SpecialDay</th>\n",
       "      <th>Month</th>\n",
       "      <th>OperatingSystems</th>\n",
       "      <th>Browser</th>\n",
       "      <th>Region</th>\n",
       "      <th>TrafficType</th>\n",
       "      <th>VisitorType</th>\n",
       "      <th>Weekend</th>\n",
       "      <th>Revenue</th>\n",
       "    </tr>\n",
       "  </thead>\n",
       "  <tbody>\n",
       "    <tr>\n",
       "      <th>0</th>\n",
       "      <td>0.0</td>\n",
       "      <td>0.0</td>\n",
       "      <td>0.000000</td>\n",
       "      <td>0.20</td>\n",
       "      <td>0.20</td>\n",
       "      <td>0.0</td>\n",
       "      <td>0.0</td>\n",
       "      <td>2</td>\n",
       "      <td>1</td>\n",
       "      <td>1</td>\n",
       "      <td>1</td>\n",
       "      <td>1</td>\n",
       "      <td>Returning_Visitor</td>\n",
       "      <td>0</td>\n",
       "      <td>0</td>\n",
       "    </tr>\n",
       "    <tr>\n",
       "      <th>1</th>\n",
       "      <td>0.0</td>\n",
       "      <td>0.0</td>\n",
       "      <td>64.000000</td>\n",
       "      <td>0.00</td>\n",
       "      <td>0.10</td>\n",
       "      <td>0.0</td>\n",
       "      <td>0.0</td>\n",
       "      <td>2</td>\n",
       "      <td>2</td>\n",
       "      <td>2</td>\n",
       "      <td>1</td>\n",
       "      <td>2</td>\n",
       "      <td>Returning_Visitor</td>\n",
       "      <td>0</td>\n",
       "      <td>0</td>\n",
       "    </tr>\n",
       "    <tr>\n",
       "      <th>2</th>\n",
       "      <td>0.0</td>\n",
       "      <td>0.0</td>\n",
       "      <td>0.000000</td>\n",
       "      <td>0.20</td>\n",
       "      <td>0.20</td>\n",
       "      <td>0.0</td>\n",
       "      <td>0.0</td>\n",
       "      <td>2</td>\n",
       "      <td>4</td>\n",
       "      <td>1</td>\n",
       "      <td>9</td>\n",
       "      <td>3</td>\n",
       "      <td>Returning_Visitor</td>\n",
       "      <td>0</td>\n",
       "      <td>0</td>\n",
       "    </tr>\n",
       "    <tr>\n",
       "      <th>3</th>\n",
       "      <td>0.0</td>\n",
       "      <td>0.0</td>\n",
       "      <td>2.666667</td>\n",
       "      <td>0.05</td>\n",
       "      <td>0.14</td>\n",
       "      <td>0.0</td>\n",
       "      <td>0.0</td>\n",
       "      <td>2</td>\n",
       "      <td>3</td>\n",
       "      <td>2</td>\n",
       "      <td>2</td>\n",
       "      <td>4</td>\n",
       "      <td>Returning_Visitor</td>\n",
       "      <td>0</td>\n",
       "      <td>0</td>\n",
       "    </tr>\n",
       "    <tr>\n",
       "      <th>4</th>\n",
       "      <td>0.0</td>\n",
       "      <td>0.0</td>\n",
       "      <td>627.500000</td>\n",
       "      <td>0.02</td>\n",
       "      <td>0.05</td>\n",
       "      <td>0.0</td>\n",
       "      <td>0.0</td>\n",
       "      <td>2</td>\n",
       "      <td>3</td>\n",
       "      <td>3</td>\n",
       "      <td>1</td>\n",
       "      <td>4</td>\n",
       "      <td>Returning_Visitor</td>\n",
       "      <td>1</td>\n",
       "      <td>0</td>\n",
       "    </tr>\n",
       "  </tbody>\n",
       "</table>\n",
       "</div>\n",
       "    <div class=\"colab-df-buttons\">\n",
       "\n",
       "  <div class=\"colab-df-container\">\n",
       "    <button class=\"colab-df-convert\" onclick=\"convertToInteractive('df-006617c4-7ae3-4c03-a2c5-fa12f3273e45')\"\n",
       "            title=\"Convert this dataframe to an interactive table.\"\n",
       "            style=\"display:none;\">\n",
       "\n",
       "  <svg xmlns=\"http://www.w3.org/2000/svg\" height=\"24px\" viewBox=\"0 -960 960 960\">\n",
       "    <path d=\"M120-120v-720h720v720H120Zm60-500h600v-160H180v160Zm220 220h160v-160H400v160Zm0 220h160v-160H400v160ZM180-400h160v-160H180v160Zm440 0h160v-160H620v160ZM180-180h160v-160H180v160Zm440 0h160v-160H620v160Z\"/>\n",
       "  </svg>\n",
       "    </button>\n",
       "\n",
       "  <style>\n",
       "    .colab-df-container {\n",
       "      display:flex;\n",
       "      gap: 12px;\n",
       "    }\n",
       "\n",
       "    .colab-df-convert {\n",
       "      background-color: #E8F0FE;\n",
       "      border: none;\n",
       "      border-radius: 50%;\n",
       "      cursor: pointer;\n",
       "      display: none;\n",
       "      fill: #1967D2;\n",
       "      height: 32px;\n",
       "      padding: 0 0 0 0;\n",
       "      width: 32px;\n",
       "    }\n",
       "\n",
       "    .colab-df-convert:hover {\n",
       "      background-color: #E2EBFA;\n",
       "      box-shadow: 0px 1px 2px rgba(60, 64, 67, 0.3), 0px 1px 3px 1px rgba(60, 64, 67, 0.15);\n",
       "      fill: #174EA6;\n",
       "    }\n",
       "\n",
       "    .colab-df-buttons div {\n",
       "      margin-bottom: 4px;\n",
       "    }\n",
       "\n",
       "    [theme=dark] .colab-df-convert {\n",
       "      background-color: #3B4455;\n",
       "      fill: #D2E3FC;\n",
       "    }\n",
       "\n",
       "    [theme=dark] .colab-df-convert:hover {\n",
       "      background-color: #434B5C;\n",
       "      box-shadow: 0px 1px 3px 1px rgba(0, 0, 0, 0.15);\n",
       "      filter: drop-shadow(0px 1px 2px rgba(0, 0, 0, 0.3));\n",
       "      fill: #FFFFFF;\n",
       "    }\n",
       "  </style>\n",
       "\n",
       "    <script>\n",
       "      const buttonEl =\n",
       "        document.querySelector('#df-006617c4-7ae3-4c03-a2c5-fa12f3273e45 button.colab-df-convert');\n",
       "      buttonEl.style.display =\n",
       "        google.colab.kernel.accessAllowed ? 'block' : 'none';\n",
       "\n",
       "      async function convertToInteractive(key) {\n",
       "        const element = document.querySelector('#df-006617c4-7ae3-4c03-a2c5-fa12f3273e45');\n",
       "        const dataTable =\n",
       "          await google.colab.kernel.invokeFunction('convertToInteractive',\n",
       "                                                    [key], {});\n",
       "        if (!dataTable) return;\n",
       "\n",
       "        const docLinkHtml = 'Like what you see? Visit the ' +\n",
       "          '<a target=\"_blank\" href=https://colab.research.google.com/notebooks/data_table.ipynb>data table notebook</a>'\n",
       "          + ' to learn more about interactive tables.';\n",
       "        element.innerHTML = '';\n",
       "        dataTable['output_type'] = 'display_data';\n",
       "        await google.colab.output.renderOutput(dataTable, element);\n",
       "        const docLink = document.createElement('div');\n",
       "        docLink.innerHTML = docLinkHtml;\n",
       "        element.appendChild(docLink);\n",
       "      }\n",
       "    </script>\n",
       "  </div>\n",
       "\n",
       "\n",
       "<div id=\"df-f6ea54d4-b50b-4f4e-a0cf-e1b7ba65bc8c\">\n",
       "  <button class=\"colab-df-quickchart\" onclick=\"quickchart('df-f6ea54d4-b50b-4f4e-a0cf-e1b7ba65bc8c')\"\n",
       "            title=\"Suggest charts\"\n",
       "            style=\"display:none;\">\n",
       "\n",
       "<svg xmlns=\"http://www.w3.org/2000/svg\" height=\"24px\"viewBox=\"0 0 24 24\"\n",
       "     width=\"24px\">\n",
       "    <g>\n",
       "        <path d=\"M19 3H5c-1.1 0-2 .9-2 2v14c0 1.1.9 2 2 2h14c1.1 0 2-.9 2-2V5c0-1.1-.9-2-2-2zM9 17H7v-7h2v7zm4 0h-2V7h2v10zm4 0h-2v-4h2v4z\"/>\n",
       "    </g>\n",
       "</svg>\n",
       "  </button>\n",
       "\n",
       "<style>\n",
       "  .colab-df-quickchart {\n",
       "      --bg-color: #E8F0FE;\n",
       "      --fill-color: #1967D2;\n",
       "      --hover-bg-color: #E2EBFA;\n",
       "      --hover-fill-color: #174EA6;\n",
       "      --disabled-fill-color: #AAA;\n",
       "      --disabled-bg-color: #DDD;\n",
       "  }\n",
       "\n",
       "  [theme=dark] .colab-df-quickchart {\n",
       "      --bg-color: #3B4455;\n",
       "      --fill-color: #D2E3FC;\n",
       "      --hover-bg-color: #434B5C;\n",
       "      --hover-fill-color: #FFFFFF;\n",
       "      --disabled-bg-color: #3B4455;\n",
       "      --disabled-fill-color: #666;\n",
       "  }\n",
       "\n",
       "  .colab-df-quickchart {\n",
       "    background-color: var(--bg-color);\n",
       "    border: none;\n",
       "    border-radius: 50%;\n",
       "    cursor: pointer;\n",
       "    display: none;\n",
       "    fill: var(--fill-color);\n",
       "    height: 32px;\n",
       "    padding: 0;\n",
       "    width: 32px;\n",
       "  }\n",
       "\n",
       "  .colab-df-quickchart:hover {\n",
       "    background-color: var(--hover-bg-color);\n",
       "    box-shadow: 0 1px 2px rgba(60, 64, 67, 0.3), 0 1px 3px 1px rgba(60, 64, 67, 0.15);\n",
       "    fill: var(--button-hover-fill-color);\n",
       "  }\n",
       "\n",
       "  .colab-df-quickchart-complete:disabled,\n",
       "  .colab-df-quickchart-complete:disabled:hover {\n",
       "    background-color: var(--disabled-bg-color);\n",
       "    fill: var(--disabled-fill-color);\n",
       "    box-shadow: none;\n",
       "  }\n",
       "\n",
       "  .colab-df-spinner {\n",
       "    border: 2px solid var(--fill-color);\n",
       "    border-color: transparent;\n",
       "    border-bottom-color: var(--fill-color);\n",
       "    animation:\n",
       "      spin 1s steps(1) infinite;\n",
       "  }\n",
       "\n",
       "  @keyframes spin {\n",
       "    0% {\n",
       "      border-color: transparent;\n",
       "      border-bottom-color: var(--fill-color);\n",
       "      border-left-color: var(--fill-color);\n",
       "    }\n",
       "    20% {\n",
       "      border-color: transparent;\n",
       "      border-left-color: var(--fill-color);\n",
       "      border-top-color: var(--fill-color);\n",
       "    }\n",
       "    30% {\n",
       "      border-color: transparent;\n",
       "      border-left-color: var(--fill-color);\n",
       "      border-top-color: var(--fill-color);\n",
       "      border-right-color: var(--fill-color);\n",
       "    }\n",
       "    40% {\n",
       "      border-color: transparent;\n",
       "      border-right-color: var(--fill-color);\n",
       "      border-top-color: var(--fill-color);\n",
       "    }\n",
       "    60% {\n",
       "      border-color: transparent;\n",
       "      border-right-color: var(--fill-color);\n",
       "    }\n",
       "    80% {\n",
       "      border-color: transparent;\n",
       "      border-right-color: var(--fill-color);\n",
       "      border-bottom-color: var(--fill-color);\n",
       "    }\n",
       "    90% {\n",
       "      border-color: transparent;\n",
       "      border-bottom-color: var(--fill-color);\n",
       "    }\n",
       "  }\n",
       "</style>\n",
       "\n",
       "  <script>\n",
       "    async function quickchart(key) {\n",
       "      const quickchartButtonEl =\n",
       "        document.querySelector('#' + key + ' button');\n",
       "      quickchartButtonEl.disabled = true;  // To prevent multiple clicks.\n",
       "      quickchartButtonEl.classList.add('colab-df-spinner');\n",
       "      try {\n",
       "        const charts = await google.colab.kernel.invokeFunction(\n",
       "            'suggestCharts', [key], {});\n",
       "      } catch (error) {\n",
       "        console.error('Error during call to suggestCharts:', error);\n",
       "      }\n",
       "      quickchartButtonEl.classList.remove('colab-df-spinner');\n",
       "      quickchartButtonEl.classList.add('colab-df-quickchart-complete');\n",
       "    }\n",
       "    (() => {\n",
       "      let quickchartButtonEl =\n",
       "        document.querySelector('#df-f6ea54d4-b50b-4f4e-a0cf-e1b7ba65bc8c button');\n",
       "      quickchartButtonEl.style.display =\n",
       "        google.colab.kernel.accessAllowed ? 'block' : 'none';\n",
       "    })();\n",
       "  </script>\n",
       "</div>\n",
       "    </div>\n",
       "  </div>\n"
      ],
      "text/plain": [
       "   Administrative_Duration  Informational_Duration  ProductRelated_Duration  \\\n",
       "0                      0.0                     0.0                 0.000000   \n",
       "1                      0.0                     0.0                64.000000   \n",
       "2                      0.0                     0.0                 0.000000   \n",
       "3                      0.0                     0.0                 2.666667   \n",
       "4                      0.0                     0.0               627.500000   \n",
       "\n",
       "   BounceRates  ExitRates  PageValues  SpecialDay  Month  OperatingSystems  \\\n",
       "0         0.20       0.20         0.0         0.0      2                 1   \n",
       "1         0.00       0.10         0.0         0.0      2                 2   \n",
       "2         0.20       0.20         0.0         0.0      2                 4   \n",
       "3         0.05       0.14         0.0         0.0      2                 3   \n",
       "4         0.02       0.05         0.0         0.0      2                 3   \n",
       "\n",
       "   Browser  Region  TrafficType        VisitorType  Weekend  Revenue  \n",
       "0        1       1            1  Returning_Visitor        0        0  \n",
       "1        2       1            2  Returning_Visitor        0        0  \n",
       "2        1       9            3  Returning_Visitor        0        0  \n",
       "3        2       2            4  Returning_Visitor        0        0  \n",
       "4        3       1            4  Returning_Visitor        1        0  "
      ]
     },
     "execution_count": 15,
     "metadata": {},
     "output_type": "execute_result"
    }
   ],
   "source": [
    "df.head()"
   ]
  },
  {
   "cell_type": "markdown",
   "id": "9ad54c9c-48b1-4a1a-a0a1-40bdedcb64b1",
   "metadata": {
    "id": "9ad54c9c-48b1-4a1a-a0a1-40bdedcb64b1"
   },
   "source": [
    "Next, let's explore the duplicated data!"
   ]
  },
  {
   "cell_type": "code",
   "execution_count": 16,
   "id": "67b4a4bc-20ff-4333-87ad-77ae21376737",
   "metadata": {
    "colab": {
     "base_uri": "https://localhost:8080/"
    },
    "id": "67b4a4bc-20ff-4333-87ad-77ae21376737",
    "outputId": "63f91ae2-fac3-42e8-c601-561ea273ffaa"
   },
   "outputs": [
    {
     "data": {
      "text/plain": [
       "False    12157\n",
       "True       173\n",
       "dtype: int64"
      ]
     },
     "execution_count": 16,
     "metadata": {},
     "output_type": "execute_result"
    }
   ],
   "source": [
    "df.duplicated().value_counts()  #to see the count of duplicated rows"
   ]
  },
  {
   "cell_type": "code",
   "execution_count": 17,
   "id": "4a80e03f-1796-4078-ad4b-c83a1e58361d",
   "metadata": {
    "colab": {
     "base_uri": "https://localhost:8080/"
    },
    "id": "4a80e03f-1796-4078-ad4b-c83a1e58361d",
    "outputId": "17fdad93-9c90-43aa-ecfa-e7153cee9505"
   },
   "outputs": [
    {
     "name": "stdout",
     "output_type": "stream",
     "text": [
      "       Administrative_Duration  Informational_Duration  \\\n",
      "158                        0.0                     0.0   \n",
      "159                        0.0                     0.0   \n",
      "178                        0.0                     0.0   \n",
      "330                        0.0                     0.0   \n",
      "356                        0.0                     0.0   \n",
      "...                        ...                     ...   \n",
      "11939                      0.0                     0.0   \n",
      "12159                      0.0                     0.0   \n",
      "12180                      0.0                     0.0   \n",
      "12185                      0.0                     0.0   \n",
      "12301                      0.0                     0.0   \n",
      "\n",
      "       ProductRelated_Duration  BounceRates  ExitRates  PageValues  \\\n",
      "158                        0.0          0.2        0.2         0.0   \n",
      "159                        0.0          0.2        0.2         0.0   \n",
      "178                        0.0          0.2        0.2         0.0   \n",
      "330                        0.0          0.2        0.2         0.0   \n",
      "356                        0.0          0.2        0.2         0.0   \n",
      "...                        ...          ...        ...         ...   \n",
      "11939                      0.0          0.2        0.2         0.0   \n",
      "12159                      0.0          0.2        0.2         0.0   \n",
      "12180                      0.0          0.2        0.2         0.0   \n",
      "12185                      0.0          0.2        0.2         0.0   \n",
      "12301                      0.0          0.2        0.2         0.0   \n",
      "\n",
      "       SpecialDay  Month  OperatingSystems  Browser  Region  TrafficType  \\\n",
      "158           0.0      2                 1        1       1            3   \n",
      "159           0.0      2                 3        2       3            3   \n",
      "178           0.0      2                 3        2       3            3   \n",
      "330           0.0      3                 3        2       3            1   \n",
      "356           0.0      3                 2        2       4            1   \n",
      "...           ...    ...               ...      ...     ...          ...   \n",
      "11939         0.0     11                 1        1       1           15   \n",
      "12159         0.0     12                 1        1       1            3   \n",
      "12180         0.0     12                 1       13       9           20   \n",
      "12185         0.0     12                 8       13       9           20   \n",
      "12301         0.0     11                 1        1       4            1   \n",
      "\n",
      "             VisitorType  Weekend  Revenue  \n",
      "158    Returning_Visitor        0        0  \n",
      "159    Returning_Visitor        0        0  \n",
      "178    Returning_Visitor        0        0  \n",
      "330    Returning_Visitor        0        0  \n",
      "356    Returning_Visitor        0        0  \n",
      "...                  ...      ...      ...  \n",
      "11939  Returning_Visitor        0        0  \n",
      "12159  Returning_Visitor        0        0  \n",
      "12180  Returning_Visitor        0        0  \n",
      "12185              Other        0        0  \n",
      "12301  Returning_Visitor        0        0  \n",
      "\n",
      "[173 rows x 15 columns]\n"
     ]
    }
   ],
   "source": [
    "duplicated_rows = df[df.duplicated()]\n",
    "\n",
    "print(duplicated_rows)"
   ]
  },
  {
   "cell_type": "markdown",
   "id": "4fa3b11c-e470-42d7-94df-3b6c85d6c116",
   "metadata": {
    "id": "4fa3b11c-e470-42d7-94df-3b6c85d6c116"
   },
   "source": [
    "Saya perlu membuang nilai yang terduplikasi dari kumpulan data karena dapat memengaruhi akurasi model. Nilai yang terduplikasi dapat menyebabkan bias pada data, yang dapat menyebabkan prediksi yang salah. Oleh karena itu, saya akan membuangnya sebelum melakukan analisis atau membangun model."
   ]
  },
  {
   "cell_type": "code",
   "execution_count": 18,
   "id": "3bc48026-6947-4899-97c8-bc535757249a",
   "metadata": {
    "id": "3bc48026-6947-4899-97c8-bc535757249a"
   },
   "outputs": [],
   "source": [
    "df.drop_duplicates(inplace=True)"
   ]
  },
  {
   "cell_type": "code",
   "execution_count": 19,
   "id": "5cb42b7d-7129-49f1-9ad9-affd2c0eb2f9",
   "metadata": {
    "id": "5cb42b7d-7129-49f1-9ad9-affd2c0eb2f9"
   },
   "outputs": [],
   "source": [
    "cols_to_scale = ['Administrative_Duration','Informational_Duration','ProductRelated_Duration','BounceRates','ExitRates','PageValues','SpecialDay']\n",
    "\n",
    "from sklearn.preprocessing import MinMaxScaler\n",
    "scaler = MinMaxScaler()\n",
    "df[cols_to_scale] = scaler.fit_transform(df[cols_to_scale])"
   ]
  },
  {
   "cell_type": "markdown",
   "id": "44738e73-bb48-46df-ba3d-640614233e72",
   "metadata": {
    "id": "44738e73-bb48-46df-ba3d-640614233e72"
   },
   "source": [
    "MinMaxScaler adalah teknik preprocessing yang menskalakan semua nilai dalam fitur yang diberikan agar berada dalam kisaran 0 dan 1. Hal ini dilakukan untuk membawa semua fitur ke skala yang sama dan menghindari satu fitur mendominasi fitur yang lain dalam model yang menggunakan algoritme berbasis jarak. Metode fit_transform() dari objek scaler menyesuaikan scaler dengan data dan mentransformasikan data menggunakan scaler dalam satu langkah."
   ]
  },
  {
   "cell_type": "markdown",
   "id": "9ea72100-3b3b-42bd-abd0-8049704691db",
   "metadata": {
    "id": "9ea72100-3b3b-42bd-abd0-8049704691db"
   },
   "source": [
    "### EXPLORATORY DATA ANALYSIS"
   ]
  },
  {
   "cell_type": "code",
   "execution_count": 20,
   "id": "38e4fa4d-6da5-4b8c-9203-facad663911f",
   "metadata": {
    "colab": {
     "base_uri": "https://localhost:8080/"
    },
    "id": "38e4fa4d-6da5-4b8c-9203-facad663911f",
    "outputId": "5dd669e6-3551-470d-ed40-45b04fb40d56"
   },
   "outputs": [
    {
     "name": "stdout",
     "output_type": "stream",
     "text": [
      "             Averga Revenue  Total Revenue\n",
      "TrafficType                               \n",
      "1                  0.110455            262\n",
      "2                  0.216624            847\n",
      "3                  0.090000            180\n",
      "4                  0.155075            165\n",
      "5                  0.215385             56\n",
      "6                  0.119910             53\n",
      "7                  0.300000             12\n",
      "8                  0.277778             95\n",
      "9                  0.097561              4\n",
      "10                 0.200000             90\n",
      "11                 0.190283             47\n",
      "12                 0.000000              0\n",
      "13                 0.060140             43\n",
      "14                 0.153846              2\n",
      "15                 0.000000              0\n",
      "16                 0.333333              1\n",
      "17                 0.000000              0\n",
      "18                 0.000000              0\n",
      "19                 0.058824              1\n",
      "20                 0.259067             50\n"
     ]
    }
   ],
   "source": [
    "grouped_data = df.groupby('TrafficType')\n",
    "\n",
    "# calcuoated avg revenue per traffic type\n",
    "avg_revenue = grouped_data['Revenue'].mean()\n",
    "\n",
    "# calculated total revenu per traffic type\n",
    "total_revenue = grouped_data['Revenue'].sum()\n",
    "\n",
    "# compare revenue across traffic types\n",
    "revenue_comparison = pd.DataFrame({'Averga Revenue' : avg_revenue, 'Total Revenue' : total_revenue})\n",
    "\n",
    "# Print the revenue comparison\n",
    "print(revenue_comparison)"
   ]
  },
  {
   "cell_type": "code",
   "execution_count": 21,
   "id": "21057a59-4d41-452b-a39f-398c1a586b6e",
   "metadata": {
    "colab": {
     "base_uri": "https://localhost:8080/",
     "height": 564
    },
    "id": "21057a59-4d41-452b-a39f-398c1a586b6e",
    "outputId": "3dfca50b-ecf6-490e-b60c-900189b4d783"
   },
   "outputs": [
    {
     "data": {
      "image/png": "[encoded data removed]",
      "text/plain": [
       "<Figure size 1000x600 with 1 Axes>"
      ]
     },
     "metadata": {},
     "output_type": "display_data"
    }
   ],
   "source": [
    "# sort the revenue comparison datframe in descending order based on the revenue metric\n",
    "revenue_comparison.sort_values(by='Total Revenue', ascending=False, inplace=True)\n",
    "\n",
    "# viz the sorted data\n",
    "plt.figure(figsize=(10, 6))\n",
    "sns.barplot(data=revenue_comparison, x=df['TrafficType'], y = 'Total Revenue')\n",
    "plt.title('Total revenue by Traffic Type')\n",
    "plt.xlabel('Traffic Type')\n",
    "plt.ylabel('Total Revenue')\n",
    "plt.show()"
   ]
  },
  {
   "cell_type": "markdown",
   "id": "d70b923b-4f2b-4769-a1b5-3c8ce1de6926",
   "metadata": {
    "id": "d70b923b-4f2b-4769-a1b5-3c8ce1de6926"
   },
   "source": [
    "Traffic Type 2 dan Traffic Type 3 menghasilkan total pendapatan tertinggi, yang mengindikasikan bahwa kedua sumber traffic ini mengarahkan traffic yang paling berharga ke situs web.\n",
    "Penting untuk fokus pada pengoptimalan dan memaksimalkan trafik dari Tipe Trafik 2 dan Tipe Trafik 3, karena keduanya telah terbukti menjadi sumber pendapatan yang paling berharga untuk situs web"
   ]
  },
  {
   "cell_type": "code",
   "execution_count": 22,
   "id": "d18267cc-7c78-424b-bdb6-e8cc9892299c",
   "metadata": {
    "colab": {
     "base_uri": "https://localhost:8080/",
     "height": 1000
    },
    "id": "d18267cc-7c78-424b-bdb6-e8cc9892299c",
    "outputId": "f4b68262-7c03-463a-a341-c602672216ce"
   },
   "outputs": [
    {
     "data": {
      "image/png": "[encoded data removed]",
      "text/plain": [
       "<Figure size 800x600 with 1 Axes>"
      ]
     },
     "metadata": {},
     "output_type": "display_data"
    },
    {
     "data": {
      "image/png": "[encoded data removed]",
      "text/plain": [
       "<Figure size 800x600 with 1 Axes>"
      ]
     },
     "metadata": {},
     "output_type": "display_data"
    },
    {
     "data": {
      "image/png": "[encoded data removed]",
      "text/plain": [
       "<Figure size 800x600 with 1 Axes>"
      ]
     },
     "metadata": {},
     "output_type": "display_data"
    },
    {
     "data": {
      "image/png": "[encoded data removed]",
      "text/plain": [
       "<Figure size 800x600 with 1 Axes>"
      ]
     },
     "metadata": {},
     "output_type": "display_data"
    },
    {
     "data": {
      "image/png": "[encoded data removed]",
      "text/plain": [
       "<Figure size 800x600 with 1 Axes>"
      ]
     },
     "metadata": {},
     "output_type": "display_data"
    },
    {
     "data": {
      "image/png": "[encoded data removed]",
      "text/plain": [
       "<Figure size 800x600 with 1 Axes>"
      ]
     },
     "metadata": {},
     "output_type": "display_data"
    },
    {
     "data": {
      "image/png": "[encoded data removed]",
      "text/plain": [
       "<Figure size 800x600 with 1 Axes>"
      ]
     },
     "metadata": {},
     "output_type": "display_data"
    },
    {
     "data": {
      "image/png": "[encoded data removed]",
      "text/plain": [
       "<Figure size 800x600 with 1 Axes>"
      ]
     },
     "metadata": {},
     "output_type": "display_data"
    }
   ],
   "source": [
    "# Filter the dataset for the Traffic Type 2 visitors\n",
    "traffic_type_2_data = df[df['TrafficType'] == 2]\n",
    "\n",
    "# filter the dataset for Traffic Type 3 visitors\n",
    "traffic_type_3_data = df[df['TrafficType'] == 3]\n",
    "\n",
    "# Demograpic analysis\n",
    "demograpic_var = ['VisitorType']\n",
    "\n",
    "for variable in demograpic_var:\n",
    "    plt.figure(figsize=(8,6))\n",
    "    sns.countplot(data=traffic_type_2_data, x=variable, palette='viridis')\n",
    "    plt.title(f'{variable} Distribution for Traffic Type 2 Visitors')\n",
    "    plt.xlabel(variable)\n",
    "    plt.ylabel('Count')\n",
    "    plt.show()\n",
    "\n",
    "    plt.figure(figsize=(8,6))\n",
    "    sns.countplot(data=traffic_type_3_data, x=variable, palette='viridis')\n",
    "    plt.title(f'{variable} Distribution for Traffic Type 3 Visitors')\n",
    "    plt.xlabel(variable)\n",
    "    plt.ylabel('Count')\n",
    "    plt.show()\n",
    "\n",
    "# Behavioral analysis\n",
    "behavioral_var = ['PageValues', 'BounceRates', 'ExitRates']\n",
    "\n",
    "for variable in behavioral_var:\n",
    "    plt.figure(figsize=(8,6))\n",
    "    sns.boxplot(data=traffic_type_2_data, x=variable, palette='viridis')\n",
    "    plt.title(f'{variable} Distribution for Traffic Type 2 Visitors')\n",
    "    plt.xlabel(variable)\n",
    "    plt.ylabel('Count')\n",
    "    plt.show()\n",
    "\n",
    "    plt.figure(figsize=(8,6))\n",
    "    sns.boxplot(data=traffic_type_3_data, x=variable, palette='viridis')\n",
    "    plt.title(f'{variable} Distribution for Traffic Type 3 Visitors')\n",
    "    plt.xlabel(variable)\n",
    "    plt.ylabel('Count')\n",
    "    plt.show()"
   ]
  },
  {
   "cell_type": "markdown",
   "id": "9679b21c-b35f-472b-a1e8-c420c7c44f40",
   "metadata": {
    "id": "9679b21c-b35f-472b-a1e8-c420c7c44f40"
   },
   "source": [
    "Rata-rata page values untuk pengunjung Tipe Traffic 2 lebih tinggi dibandingkan dengan pengunjung Tipe Traffic 3, yang mengindikasikan bahwa pengunjung dari Tipe Traffic 2 lebih mungkin menghasilkan pendapatan di situs web."
   ]
  },
  {
   "cell_type": "markdown",
   "id": "d6870f62-cd47-40fa-ab76-1be0264e3b76",
   "metadata": {
    "id": "d6870f62-cd47-40fa-ab76-1be0264e3b76"
   },
   "source": [
    "Bounce rates dan Exit rates untuk pengunjung Tipe Traffic 2 relatif rendah dengan tipe Traffic lainnya. Hal ini menunjukkan bahwa pengunjung yang berasal dari Tipe Traffic 2 memiliki tingkat keterlibatan yang lebih tinggi dan cenderung menjelajahi beberapa halaman sebelum meninggalkan situs web. Hal ini membuat mereka menjadi sumber traffic yang berharga untuk menghasilkan pendapatan.\n"
   ]
  },
  {
   "cell_type": "markdown",
   "id": "fe8a5bab-e23f-4e8c-8a10-f6257319dc0c",
   "metadata": {
    "id": "fe8a5bab-e23f-4e8c-8a10-f6257319dc0c"
   },
   "source": [
    "Bounce rates dan Exit rates untuk pengunjung Tipe Traffic 3 lebih tinggi dibandingkan dengan tipe traffic lainnya. Hal ini menunjukkan bahwa pengunjung yang berasal dari Traffic Type 3 mungkin memiliki tingkat keterlibatan yang lebih rendah dengan situs web, yang mengarah ke kemungkinan yang lebih tinggi untuk meninggalkan situs web tanpa interaksi lebih lanjut."
   ]
  },
  {
   "cell_type": "code",
   "execution_count": 23,
   "id": "cb49b211-ea3b-4fbc-817d-9b92f9716bc7",
   "metadata": {
    "colab": {
     "base_uri": "https://localhost:8080/",
     "height": 668
    },
    "id": "cb49b211-ea3b-4fbc-817d-9b92f9716bc7",
    "outputId": "5e6258aa-2a01-406b-b0eb-326ed98b372f"
   },
   "outputs": [
    {
     "data": {
      "image/png": "[encoded data removed]",
      "text/plain": [
       "<Figure size 1000x600 with 1 Axes>"
      ]
     },
     "metadata": {},
     "output_type": "display_data"
    },
    {
     "name": "stdout",
     "output_type": "stream",
     "text": [
      "Special Days with the Higest Impact on Customer Engagement:\n",
      "- 0.0: 0.16779692082111436\n",
      "- 0.6: 0.0830945558739255\n",
      "- 0.2: 0.07865168539325842\n",
      "- 1.0: 0.06493506493506493\n",
      "- 0.4: 0.05371900826446281\n"
     ]
    }
   ],
   "source": [
    "# Group the data by 'SpecialDay' and calculate the average revenue or visitor count\n",
    "special_day_analysis = df.groupby('SpecialDay')['Revenue'].mean()\n",
    "\n",
    "# Sort the data in descending order based on the average revenue\n",
    "special_day_analysis = special_day_analysis.sort_values(ascending=False)\n",
    "\n",
    "# Viz the impact of special days on customer engagement\n",
    "plt.figure(figsize=(10,6))\n",
    "sns.barplot(x=special_day_analysis.index, y=special_day_analysis.values)\n",
    "plt.title(\"Impact of Special Days on Customer Engagement\")\n",
    "plt.xlabel(\"Special Day\")\n",
    "plt.ylabel(\"Average Revenue\")\n",
    "plt.show()\n",
    "\n",
    "# Identify the special days with the higest impact on customer engagement\n",
    "top_special_days = special_day_analysis.head(5)\n",
    "\n",
    "print(\"Special Days with the Higest Impact on Customer Engagement:\")\n",
    "for day, impact in top_special_days.items():\n",
    "    print(f'- {day}: {impact}')"
   ]
  },
  {
   "cell_type": "code",
   "execution_count": 24,
   "id": "b9476d44-fd80-404c-adab-830319716179",
   "metadata": {
    "colab": {
     "base_uri": "https://localhost:8080/",
     "height": 780
    },
    "id": "b9476d44-fd80-404c-adab-830319716179",
    "outputId": "3dedd541-d1e9-4d41-b33d-1027b9ee2412"
   },
   "outputs": [
    {
     "name": "stderr",
     "output_type": "stream",
     "text": [
      "<ipython-input-24-816d1b8c1252>:1: FutureWarning: The default value of numeric_only in DataFrame.corr is deprecated. In a future version, it will default to False. Select only valid columns or specify the value of numeric_only to silence this warning.\n",
      "  corr = df.corr()\n"
     ]
    },
    {
     "data": {
      "text/plain": [
       "<Axes: >"
      ]
     },
     "execution_count": 24,
     "metadata": {},
     "output_type": "execute_result"
    },
    {
     "data": {
      "image/png": "[encoded data removed]",
      "text/plain": [
       "<Figure size 800x600 with 2 Axes>"
      ]
     },
     "metadata": {},
     "output_type": "display_data"
    }
   ],
   "source": [
    "corr = df.corr()\n",
    "sns.set(style='dark')\n",
    "plt.figure(figsize=(8,6))\n",
    "sns.heatmap(corr,vmin=-1, vmax=1, center=0, cmap=sns.diverging_palette(20, 220, n=200), linewidths=0.5)"
   ]
  },
  {
   "cell_type": "markdown",
   "id": "ab7aebec-0e3b-40a7-9753-ff738a8ec6bd",
   "metadata": {
    "id": "ab7aebec-0e3b-40a7-9753-ff738a8ec6bd"
   },
   "source": [
    "Dari matrik korelasi diatas dari kumpulan data pembelanja online, kita dapat melihat hal berikut :\n",
    "\n",
    "Fitur Exit rates dan Bouce rates cukup berkorelasi, hal yang masuk akal karena keduanya terkait dengan pengunjung yang meninggalkan situs web.\n",
    "\n",
    "Fitur PageValues berkorelasi lemah dengan fitur lainnya, yang menunjukkan bahwa fitur ini mungkin tidak memiliki dampak yang kuat dalam memprediksi apakah pengunjung akan melakukan pembelian atau tidak."
   ]
  },
  {
   "cell_type": "code",
   "execution_count": 25,
   "id": "fff3805b-ee7c-420d-8566-f5a4d65f01e5",
   "metadata": {
    "colab": {
     "base_uri": "https://localhost:8080/",
     "height": 342
    },
    "id": "fff3805b-ee7c-420d-8566-f5a4d65f01e5",
    "outputId": "17d61f00-0b1c-4979-e857-70c5c415d25c"
   },
   "outputs": [
    {
     "data": {
      "image/png": "[encoded data removed]",
      "text/plain": [
       "<Figure size 900x300 with 1 Axes>"
      ]
     },
     "metadata": {},
     "output_type": "display_data"
    }
   ],
   "source": [
    "plt.figure(figsize=(9, 3))\n",
    "plt.hist(df['Revenue'],color='yellow')\n",
    "\n",
    "plt.title(\"Revenue Class Distribution\")\n",
    "plt.xlabel(\"Revenue\")\n",
    "plt.ylabel(\"Count\")\n",
    "plt.show()"
   ]
  },
  {
   "cell_type": "markdown",
   "id": "08ec614c-f289-44c1-a265-120d87632777",
   "metadata": {
    "id": "08ec614c-f289-44c1-a265-120d87632777"
   },
   "source": [
    "Visualisasi di atas membantu untuk memahami distribusi variabel target, yaitu kelas pendapatan. Dalam kasus masalah klasifikasi biner seperti ini, penting untuk memiliki distribusi kelas yang seimbang. Kita dapat melihat bahwa ada ketidakseimbangan kelas di sini yang dapat menyebabkan model bias yang berkinerja buruk pada kelas minoritas."
   ]
  },
  {
   "cell_type": "code",
   "execution_count": 26,
   "id": "c2e2b53f-7db8-4fa9-b926-68b76eb4762b",
   "metadata": {
    "colab": {
     "base_uri": "https://localhost:8080/",
     "height": 480
    },
    "id": "c2e2b53f-7db8-4fa9-b926-68b76eb4762b",
    "outputId": "73c468bf-fd9d-4411-d5c6-abfc5ef7b90e"
   },
   "outputs": [
    {
     "data": {
      "image/png": "[encoded data removed]",
      "text/plain": [
       "<Figure size 640x480 with 1 Axes>"
      ]
     },
     "metadata": {},
     "output_type": "display_data"
    }
   ],
   "source": [
    "N = len(df)\n",
    "colors = np.random.rand(N)\n",
    "plt.scatter(df['PageValues'], df['BounceRates'], c = colors)\n",
    "plt.title(\"Page Values vs Bounce Rates\")\n",
    "plt.xlabel(\"Page Values\")\n",
    "plt.ylabel(\"Bounce Rates\")\n",
    "plt.show()"
   ]
  },
  {
   "cell_type": "markdown",
   "id": "d6d3e4be-b8e3-476b-abbd-574579de174a",
   "metadata": {
    "id": "d6d3e4be-b8e3-476b-abbd-574579de174a"
   },
   "source": [
    "Kita dapat mengamati bahwa terdapat tren umum dimana Page Values yang lebih tinggi cenderung memiliki Bunce Rates yang lebih rendah. Hal ini dapat mengindikasikan bahwa pengguna lebih cenderung bertahan di situs web jika halaman tersebut memberikan informasi atau produk yang lebih berharga. Namu ada juga banyak titik data dengan Page Values rendah dan Bounce Rates rendah, yang menunjukkan bahwa mungkin terdapat faktor lain yang berperan."
   ]
  },
  {
   "cell_type": "markdown",
   "id": "3b459e9d-0d43-4c3f-85e1-bca450c9e207",
   "metadata": {
    "id": "3b459e9d-0d43-4c3f-85e1-bca450c9e207"
   },
   "source": [
    "### Handling Class Imbalance"
   ]
  },
  {
   "cell_type": "code",
   "execution_count": 27,
   "id": "348d5707-1d64-4860-b82c-31ac64af9cf0",
   "metadata": {
    "colab": {
     "base_uri": "https://localhost:8080/",
     "height": 226
    },
    "id": "348d5707-1d64-4860-b82c-31ac64af9cf0",
    "outputId": "93f3b099-9d47-4303-ae78-df71b2cece6a"
   },
   "outputs": [
    {
     "data": {
      "text/html": [
       "\n",
       "  <div id=\"df-b41a5133-96a0-4a64-a52a-d26eb414e0c2\" class=\"colab-df-container\">\n",
       "    <div>\n",
       "<style scoped>\n",
       "    .dataframe tbody tr th:only-of-type {\n",
       "        vertical-align: middle;\n",
       "    }\n",
       "\n",
       "    .dataframe tbody tr th {\n",
       "        vertical-align: top;\n",
       "    }\n",
       "\n",
       "    .dataframe thead th {\n",
       "        text-align: right;\n",
       "    }\n",
       "</style>\n",
       "<table border=\"1\" class=\"dataframe\">\n",
       "  <thead>\n",
       "    <tr style=\"text-align: right;\">\n",
       "      <th></th>\n",
       "      <th>Administrative_Duration</th>\n",
       "      <th>Informational_Duration</th>\n",
       "      <th>ProductRelated_Duration</th>\n",
       "      <th>BounceRates</th>\n",
       "      <th>ExitRates</th>\n",
       "      <th>PageValues</th>\n",
       "      <th>SpecialDay</th>\n",
       "      <th>Month</th>\n",
       "      <th>OperatingSystems</th>\n",
       "      <th>Browser</th>\n",
       "      <th>Region</th>\n",
       "      <th>TrafficType</th>\n",
       "      <th>VisitorType</th>\n",
       "      <th>Weekend</th>\n",
       "      <th>Revenue</th>\n",
       "    </tr>\n",
       "  </thead>\n",
       "  <tbody>\n",
       "    <tr>\n",
       "      <th>0</th>\n",
       "      <td>0.0</td>\n",
       "      <td>0.0</td>\n",
       "      <td>0.000000</td>\n",
       "      <td>1.00</td>\n",
       "      <td>1.00</td>\n",
       "      <td>0.0</td>\n",
       "      <td>0.0</td>\n",
       "      <td>2</td>\n",
       "      <td>1</td>\n",
       "      <td>1</td>\n",
       "      <td>1</td>\n",
       "      <td>1</td>\n",
       "      <td>Returning_Visitor</td>\n",
       "      <td>0</td>\n",
       "      <td>0</td>\n",
       "    </tr>\n",
       "    <tr>\n",
       "      <th>1</th>\n",
       "      <td>0.0</td>\n",
       "      <td>0.0</td>\n",
       "      <td>0.001000</td>\n",
       "      <td>0.00</td>\n",
       "      <td>0.50</td>\n",
       "      <td>0.0</td>\n",
       "      <td>0.0</td>\n",
       "      <td>2</td>\n",
       "      <td>2</td>\n",
       "      <td>2</td>\n",
       "      <td>1</td>\n",
       "      <td>2</td>\n",
       "      <td>Returning_Visitor</td>\n",
       "      <td>0</td>\n",
       "      <td>0</td>\n",
       "    </tr>\n",
       "    <tr>\n",
       "      <th>2</th>\n",
       "      <td>0.0</td>\n",
       "      <td>0.0</td>\n",
       "      <td>0.000000</td>\n",
       "      <td>1.00</td>\n",
       "      <td>1.00</td>\n",
       "      <td>0.0</td>\n",
       "      <td>0.0</td>\n",
       "      <td>2</td>\n",
       "      <td>4</td>\n",
       "      <td>1</td>\n",
       "      <td>9</td>\n",
       "      <td>3</td>\n",
       "      <td>Returning_Visitor</td>\n",
       "      <td>0</td>\n",
       "      <td>0</td>\n",
       "    </tr>\n",
       "    <tr>\n",
       "      <th>3</th>\n",
       "      <td>0.0</td>\n",
       "      <td>0.0</td>\n",
       "      <td>0.000042</td>\n",
       "      <td>0.25</td>\n",
       "      <td>0.70</td>\n",
       "      <td>0.0</td>\n",
       "      <td>0.0</td>\n",
       "      <td>2</td>\n",
       "      <td>3</td>\n",
       "      <td>2</td>\n",
       "      <td>2</td>\n",
       "      <td>4</td>\n",
       "      <td>Returning_Visitor</td>\n",
       "      <td>0</td>\n",
       "      <td>0</td>\n",
       "    </tr>\n",
       "    <tr>\n",
       "      <th>4</th>\n",
       "      <td>0.0</td>\n",
       "      <td>0.0</td>\n",
       "      <td>0.009809</td>\n",
       "      <td>0.10</td>\n",
       "      <td>0.25</td>\n",
       "      <td>0.0</td>\n",
       "      <td>0.0</td>\n",
       "      <td>2</td>\n",
       "      <td>3</td>\n",
       "      <td>3</td>\n",
       "      <td>1</td>\n",
       "      <td>4</td>\n",
       "      <td>Returning_Visitor</td>\n",
       "      <td>1</td>\n",
       "      <td>0</td>\n",
       "    </tr>\n",
       "  </tbody>\n",
       "</table>\n",
       "</div>\n",
       "    <div class=\"colab-df-buttons\">\n",
       "\n",
       "  <div class=\"colab-df-container\">\n",
       "    <button class=\"colab-df-convert\" onclick=\"convertToInteractive('df-b41a5133-96a0-4a64-a52a-d26eb414e0c2')\"\n",
       "            title=\"Convert this dataframe to an interactive table.\"\n",
       "            style=\"display:none;\">\n",
       "\n",
       "  <svg xmlns=\"http://www.w3.org/2000/svg\" height=\"24px\" viewBox=\"0 -960 960 960\">\n",
       "    <path d=\"M120-120v-720h720v720H120Zm60-500h600v-160H180v160Zm220 220h160v-160H400v160Zm0 220h160v-160H400v160ZM180-400h160v-160H180v160Zm440 0h160v-160H620v160ZM180-180h160v-160H180v160Zm440 0h160v-160H620v160Z\"/>\n",
       "  </svg>\n",
       "    </button>\n",
       "\n",
       "  <style>\n",
       "    .colab-df-container {\n",
       "      display:flex;\n",
       "      gap: 12px;\n",
       "    }\n",
       "\n",
       "    .colab-df-convert {\n",
       "      background-color: #E8F0FE;\n",
       "      border: none;\n",
       "      border-radius: 50%;\n",
       "      cursor: pointer;\n",
       "      display: none;\n",
       "      fill: #1967D2;\n",
       "      height: 32px;\n",
       "      padding: 0 0 0 0;\n",
       "      width: 32px;\n",
       "    }\n",
       "\n",
       "    .colab-df-convert:hover {\n",
       "      background-color: #E2EBFA;\n",
       "      box-shadow: 0px 1px 2px rgba(60, 64, 67, 0.3), 0px 1px 3px 1px rgba(60, 64, 67, 0.15);\n",
       "      fill: #174EA6;\n",
       "    }\n",
       "\n",
       "    .colab-df-buttons div {\n",
       "      margin-bottom: 4px;\n",
       "    }\n",
       "\n",
       "    [theme=dark] .colab-df-convert {\n",
       "      background-color: #3B4455;\n",
       "      fill: #D2E3FC;\n",
       "    }\n",
       "\n",
       "    [theme=dark] .colab-df-convert:hover {\n",
       "      background-color: #434B5C;\n",
       "      box-shadow: 0px 1px 3px 1px rgba(0, 0, 0, 0.15);\n",
       "      filter: drop-shadow(0px 1px 2px rgba(0, 0, 0, 0.3));\n",
       "      fill: #FFFFFF;\n",
       "    }\n",
       "  </style>\n",
       "\n",
       "    <script>\n",
       "      const buttonEl =\n",
       "        document.querySelector('#df-b41a5133-96a0-4a64-a52a-d26eb414e0c2 button.colab-df-convert');\n",
       "      buttonEl.style.display =\n",
       "        google.colab.kernel.accessAllowed ? 'block' : 'none';\n",
       "\n",
       "      async function convertToInteractive(key) {\n",
       "        const element = document.querySelector('#df-b41a5133-96a0-4a64-a52a-d26eb414e0c2');\n",
       "        const dataTable =\n",
       "          await google.colab.kernel.invokeFunction('convertToInteractive',\n",
       "                                                    [key], {});\n",
       "        if (!dataTable) return;\n",
       "\n",
       "        const docLinkHtml = 'Like what you see? Visit the ' +\n",
       "          '<a target=\"_blank\" href=https://colab.research.google.com/notebooks/data_table.ipynb>data table notebook</a>'\n",
       "          + ' to learn more about interactive tables.';\n",
       "        element.innerHTML = '';\n",
       "        dataTable['output_type'] = 'display_data';\n",
       "        await google.colab.output.renderOutput(dataTable, element);\n",
       "        const docLink = document.createElement('div');\n",
       "        docLink.innerHTML = docLinkHtml;\n",
       "        element.appendChild(docLink);\n",
       "      }\n",
       "    </script>\n",
       "  </div>\n",
       "\n",
       "\n",
       "<div id=\"df-585fb5bd-9395-423d-b920-865ab4eece90\">\n",
       "  <button class=\"colab-df-quickchart\" onclick=\"quickchart('df-585fb5bd-9395-423d-b920-865ab4eece90')\"\n",
       "            title=\"Suggest charts\"\n",
       "            style=\"display:none;\">\n",
       "\n",
       "<svg xmlns=\"http://www.w3.org/2000/svg\" height=\"24px\"viewBox=\"0 0 24 24\"\n",
       "     width=\"24px\">\n",
       "    <g>\n",
       "        <path d=\"M19 3H5c-1.1 0-2 .9-2 2v14c0 1.1.9 2 2 2h14c1.1 0 2-.9 2-2V5c0-1.1-.9-2-2-2zM9 17H7v-7h2v7zm4 0h-2V7h2v10zm4 0h-2v-4h2v4z\"/>\n",
       "    </g>\n",
       "</svg>\n",
       "  </button>\n",
       "\n",
       "<style>\n",
       "  .colab-df-quickchart {\n",
       "      --bg-color: #E8F0FE;\n",
       "      --fill-color: #1967D2;\n",
       "      --hover-bg-color: #E2EBFA;\n",
       "      --hover-fill-color: #174EA6;\n",
       "      --disabled-fill-color: #AAA;\n",
       "      --disabled-bg-color: #DDD;\n",
       "  }\n",
       "\n",
       "  [theme=dark] .colab-df-quickchart {\n",
       "      --bg-color: #3B4455;\n",
       "      --fill-color: #D2E3FC;\n",
       "      --hover-bg-color: #434B5C;\n",
       "      --hover-fill-color: #FFFFFF;\n",
       "      --disabled-bg-color: #3B4455;\n",
       "      --disabled-fill-color: #666;\n",
       "  }\n",
       "\n",
       "  .colab-df-quickchart {\n",
       "    background-color: var(--bg-color);\n",
       "    border: none;\n",
       "    border-radius: 50%;\n",
       "    cursor: pointer;\n",
       "    display: none;\n",
       "    fill: var(--fill-color);\n",
       "    height: 32px;\n",
       "    padding: 0;\n",
       "    width: 32px;\n",
       "  }\n",
       "\n",
       "  .colab-df-quickchart:hover {\n",
       "    background-color: var(--hover-bg-color);\n",
       "    box-shadow: 0 1px 2px rgba(60, 64, 67, 0.3), 0 1px 3px 1px rgba(60, 64, 67, 0.15);\n",
       "    fill: var(--button-hover-fill-color);\n",
       "  }\n",
       "\n",
       "  .colab-df-quickchart-complete:disabled,\n",
       "  .colab-df-quickchart-complete:disabled:hover {\n",
       "    background-color: var(--disabled-bg-color);\n",
       "    fill: var(--disabled-fill-color);\n",
       "    box-shadow: none;\n",
       "  }\n",
       "\n",
       "  .colab-df-spinner {\n",
       "    border: 2px solid var(--fill-color);\n",
       "    border-color: transparent;\n",
       "    border-bottom-color: var(--fill-color);\n",
       "    animation:\n",
       "      spin 1s steps(1) infinite;\n",
       "  }\n",
       "\n",
       "  @keyframes spin {\n",
       "    0% {\n",
       "      border-color: transparent;\n",
       "      border-bottom-color: var(--fill-color);\n",
       "      border-left-color: var(--fill-color);\n",
       "    }\n",
       "    20% {\n",
       "      border-color: transparent;\n",
       "      border-left-color: var(--fill-color);\n",
       "      border-top-color: var(--fill-color);\n",
       "    }\n",
       "    30% {\n",
       "      border-color: transparent;\n",
       "      border-left-color: var(--fill-color);\n",
       "      border-top-color: var(--fill-color);\n",
       "      border-right-color: var(--fill-color);\n",
       "    }\n",
       "    40% {\n",
       "      border-color: transparent;\n",
       "      border-right-color: var(--fill-color);\n",
       "      border-top-color: var(--fill-color);\n",
       "    }\n",
       "    60% {\n",
       "      border-color: transparent;\n",
       "      border-right-color: var(--fill-color);\n",
       "    }\n",
       "    80% {\n",
       "      border-color: transparent;\n",
       "      border-right-color: var(--fill-color);\n",
       "      border-bottom-color: var(--fill-color);\n",
       "    }\n",
       "    90% {\n",
       "      border-color: transparent;\n",
       "      border-bottom-color: var(--fill-color);\n",
       "    }\n",
       "  }\n",
       "</style>\n",
       "\n",
       "  <script>\n",
       "    async function quickchart(key) {\n",
       "      const quickchartButtonEl =\n",
       "        document.querySelector('#' + key + ' button');\n",
       "      quickchartButtonEl.disabled = true;  // To prevent multiple clicks.\n",
       "      quickchartButtonEl.classList.add('colab-df-spinner');\n",
       "      try {\n",
       "        const charts = await google.colab.kernel.invokeFunction(\n",
       "            'suggestCharts', [key], {});\n",
       "      } catch (error) {\n",
       "        console.error('Error during call to suggestCharts:', error);\n",
       "      }\n",
       "      quickchartButtonEl.classList.remove('colab-df-spinner');\n",
       "      quickchartButtonEl.classList.add('colab-df-quickchart-complete');\n",
       "    }\n",
       "    (() => {\n",
       "      let quickchartButtonEl =\n",
       "        document.querySelector('#df-585fb5bd-9395-423d-b920-865ab4eece90 button');\n",
       "      quickchartButtonEl.style.display =\n",
       "        google.colab.kernel.accessAllowed ? 'block' : 'none';\n",
       "    })();\n",
       "  </script>\n",
       "</div>\n",
       "    </div>\n",
       "  </div>\n"
      ],
      "text/plain": [
       "   Administrative_Duration  Informational_Duration  ProductRelated_Duration  \\\n",
       "0                      0.0                     0.0                 0.000000   \n",
       "1                      0.0                     0.0                 0.001000   \n",
       "2                      0.0                     0.0                 0.000000   \n",
       "3                      0.0                     0.0                 0.000042   \n",
       "4                      0.0                     0.0                 0.009809   \n",
       "\n",
       "   BounceRates  ExitRates  PageValues  SpecialDay  Month  OperatingSystems  \\\n",
       "0         1.00       1.00         0.0         0.0      2                 1   \n",
       "1         0.00       0.50         0.0         0.0      2                 2   \n",
       "2         1.00       1.00         0.0         0.0      2                 4   \n",
       "3         0.25       0.70         0.0         0.0      2                 3   \n",
       "4         0.10       0.25         0.0         0.0      2                 3   \n",
       "\n",
       "   Browser  Region  TrafficType        VisitorType  Weekend  Revenue  \n",
       "0        1       1            1  Returning_Visitor        0        0  \n",
       "1        2       1            2  Returning_Visitor        0        0  \n",
       "2        1       9            3  Returning_Visitor        0        0  \n",
       "3        2       2            4  Returning_Visitor        0        0  \n",
       "4        3       1            4  Returning_Visitor        1        0  "
      ]
     },
     "execution_count": 27,
     "metadata": {},
     "output_type": "execute_result"
    }
   ],
   "source": [
    "df.head()"
   ]
  },
  {
   "cell_type": "code",
   "execution_count": 28,
   "id": "ced22cfb-9ab9-4031-ad35-1be05b922b4b",
   "metadata": {
    "colab": {
     "base_uri": "https://localhost:8080/"
    },
    "id": "ced22cfb-9ab9-4031-ad35-1be05b922b4b",
    "outputId": "34e7047a-da14-4d8b-d3cd-bffc6f8a4e6d"
   },
   "outputs": [
    {
     "data": {
      "text/plain": [
       "0    10249\n",
       "1     1908\n",
       "Name: Revenue, dtype: int64"
      ]
     },
     "execution_count": 28,
     "metadata": {},
     "output_type": "execute_result"
    }
   ],
   "source": [
    "df['Revenue'].value_counts()"
   ]
  },
  {
   "cell_type": "code",
   "execution_count": 29,
   "id": "07c23006-79f5-4a0a-b325-a6a69254a711",
   "metadata": {
    "id": "07c23006-79f5-4a0a-b325-a6a69254a711"
   },
   "outputs": [],
   "source": [
    "X = df.drop('Revenue', axis = 1)\n",
    "y = df['Revenue']"
   ]
  },
  {
   "cell_type": "code",
   "execution_count": 30,
   "id": "5c92ab11-0201-45cd-aa56-fae463580320",
   "metadata": {
    "id": "5c92ab11-0201-45cd-aa56-fae463580320"
   },
   "outputs": [],
   "source": [
    "from sklearn.model_selection import train_test_split\n",
    "\n",
    "X_train, X_test, y_train, y_test = train_test_split(X, y, test_size = 0.2, random_state=42, stratify=y)"
   ]
  },
  {
   "cell_type": "markdown",
   "id": "29d50d86-5bce-4021-9878-09dfe7928b70",
   "metadata": {
    "id": "29d50d86-5bce-4021-9878-09dfe7928b70"
   },
   "source": [
    "Parameter stratify pada fungsi train_test_split dalam scikit-learn digunakan untuk memastikan bahwa distribusi kelas pada data terbagi dengan proporsi yang sama antara set pelatihan dan set pengujian. Dengan kata lain, jika kita memiliki data yang tidak seimbang dari segi kelas (kelas-kelas yang berbeda memiliki jumlah yang sangat berbeda), menggunakan stratify akan membantu memastikan bahwa setiap set (pelatihan dan pengujian) mewakili proporsi kelas yang sama seperti dalam dataset asli."
   ]
  },
  {
   "cell_type": "code",
   "execution_count": 31,
   "id": "f3eb4b45-1143-4339-8f55-67b879b1c88e",
   "metadata": {
    "colab": {
     "base_uri": "https://localhost:8080/"
    },
    "id": "f3eb4b45-1143-4339-8f55-67b879b1c88e",
    "outputId": "de13b56c-085e-4fca-c81d-effde80dba1b"
   },
   "outputs": [
    {
     "data": {
      "text/plain": [
       "0    8199\n",
       "1    1526\n",
       "Name: Revenue, dtype: int64"
      ]
     },
     "execution_count": 31,
     "metadata": {},
     "output_type": "execute_result"
    }
   ],
   "source": [
    "y_train.value_counts()"
   ]
  },
  {
   "cell_type": "code",
   "execution_count": 32,
   "id": "f554cd55-3dc3-493a-9403-a5dd3242b7c0",
   "metadata": {
    "colab": {
     "base_uri": "https://localhost:8080/"
    },
    "id": "f554cd55-3dc3-493a-9403-a5dd3242b7c0",
    "outputId": "ab9cd01c-0453-41a0-8e3f-142d4084c293"
   },
   "outputs": [
    {
     "data": {
      "text/plain": [
       "0    10249\n",
       "1     1908\n",
       "Name: Revenue, dtype: int64"
      ]
     },
     "execution_count": 32,
     "metadata": {},
     "output_type": "execute_result"
    }
   ],
   "source": [
    "y.value_counts()"
   ]
  },
  {
   "cell_type": "code",
   "execution_count": 33,
   "id": "0f2c9c24-2f9f-4ab1-94b0-e2eca3ac35bc",
   "metadata": {
    "colab": {
     "base_uri": "https://localhost:8080/"
    },
    "id": "0f2c9c24-2f9f-4ab1-94b0-e2eca3ac35bc",
    "outputId": "8f17053e-09c3-4517-9361-7de52fb7ee97"
   },
   "outputs": [
    {
     "data": {
      "text/plain": [
       "0    2050\n",
       "1     382\n",
       "Name: Revenue, dtype: int64"
      ]
     },
     "execution_count": 33,
     "metadata": {},
     "output_type": "execute_result"
    }
   ],
   "source": [
    "y_test.value_counts()"
   ]
  },
  {
   "cell_type": "code",
   "execution_count": 34,
   "id": "22625a98-c3ae-4542-a3a1-21cd52b6bb96",
   "metadata": {
    "colab": {
     "base_uri": "https://localhost:8080/"
    },
    "id": "22625a98-c3ae-4542-a3a1-21cd52b6bb96",
    "outputId": "8e0d53bb-ec3e-463a-b4f4-7e02e5e5ea0d"
   },
   "outputs": [
    {
     "data": {
      "text/plain": [
       "(9725, 14)"
      ]
     },
     "execution_count": 34,
     "metadata": {},
     "output_type": "execute_result"
    }
   ],
   "source": [
    "X_train.shape"
   ]
  },
  {
   "cell_type": "code",
   "execution_count": 35,
   "id": "0ce4629e-4843-481d-8cbc-7c7aa2a1dd13",
   "metadata": {
    "colab": {
     "base_uri": "https://localhost:8080/"
    },
    "id": "0ce4629e-4843-481d-8cbc-7c7aa2a1dd13",
    "outputId": "b3aa84a3-c58c-4f75-dd43-cf07107d2640"
   },
   "outputs": [
    {
     "data": {
      "text/plain": [
       "(2432, 14)"
      ]
     },
     "execution_count": 35,
     "metadata": {},
     "output_type": "execute_result"
    }
   ],
   "source": [
    "X_test.shape"
   ]
  },
  {
   "cell_type": "code",
   "execution_count": 36,
   "id": "f9397f48-46f1-4d0f-898a-a19f24ae0a08",
   "metadata": {
    "colab": {
     "base_uri": "https://localhost:8080/",
     "height": 383
    },
    "id": "f9397f48-46f1-4d0f-898a-a19f24ae0a08",
    "outputId": "3b4b9e99-80bf-4437-fd36-3802b2511db6"
   },
   "outputs": [
    {
     "data": {
      "text/html": [
       "\n",
       "  <div id=\"df-64817eba-171a-4b3f-9c75-27dbeb5a7af0\" class=\"colab-df-container\">\n",
       "    <div>\n",
       "<style scoped>\n",
       "    .dataframe tbody tr th:only-of-type {\n",
       "        vertical-align: middle;\n",
       "    }\n",
       "\n",
       "    .dataframe tbody tr th {\n",
       "        vertical-align: top;\n",
       "    }\n",
       "\n",
       "    .dataframe thead th {\n",
       "        text-align: right;\n",
       "    }\n",
       "</style>\n",
       "<table border=\"1\" class=\"dataframe\">\n",
       "  <thead>\n",
       "    <tr style=\"text-align: right;\">\n",
       "      <th></th>\n",
       "      <th>Administrative_Duration</th>\n",
       "      <th>Informational_Duration</th>\n",
       "      <th>ProductRelated_Duration</th>\n",
       "      <th>BounceRates</th>\n",
       "      <th>ExitRates</th>\n",
       "      <th>PageValues</th>\n",
       "      <th>SpecialDay</th>\n",
       "      <th>Month</th>\n",
       "      <th>OperatingSystems</th>\n",
       "      <th>Browser</th>\n",
       "      <th>Region</th>\n",
       "      <th>TrafficType</th>\n",
       "      <th>VisitorType</th>\n",
       "      <th>Weekend</th>\n",
       "    </tr>\n",
       "  </thead>\n",
       "  <tbody>\n",
       "    <tr>\n",
       "      <th>2811</th>\n",
       "      <td>0.000000</td>\n",
       "      <td>0.000000</td>\n",
       "      <td>0.006888</td>\n",
       "      <td>0.078947</td>\n",
       "      <td>0.232456</td>\n",
       "      <td>0.000000</td>\n",
       "      <td>0.4</td>\n",
       "      <td>5</td>\n",
       "      <td>2</td>\n",
       "      <td>5</td>\n",
       "      <td>3</td>\n",
       "      <td>3</td>\n",
       "      <td>Returning_Visitor</td>\n",
       "      <td>0</td>\n",
       "    </tr>\n",
       "    <tr>\n",
       "      <th>4466</th>\n",
       "      <td>0.007473</td>\n",
       "      <td>0.000000</td>\n",
       "      <td>0.046246</td>\n",
       "      <td>0.027027</td>\n",
       "      <td>0.109234</td>\n",
       "      <td>0.015693</td>\n",
       "      <td>0.4</td>\n",
       "      <td>5</td>\n",
       "      <td>2</td>\n",
       "      <td>5</td>\n",
       "      <td>2</td>\n",
       "      <td>3</td>\n",
       "      <td>Returning_Visitor</td>\n",
       "      <td>0</td>\n",
       "    </tr>\n",
       "    <tr>\n",
       "      <th>10593</th>\n",
       "      <td>0.031543</td>\n",
       "      <td>0.000000</td>\n",
       "      <td>0.008023</td>\n",
       "      <td>0.000000</td>\n",
       "      <td>0.060150</td>\n",
       "      <td>0.048502</td>\n",
       "      <td>0.0</td>\n",
       "      <td>11</td>\n",
       "      <td>2</td>\n",
       "      <td>2</td>\n",
       "      <td>1</td>\n",
       "      <td>10</td>\n",
       "      <td>Returning_Visitor</td>\n",
       "      <td>0</td>\n",
       "    </tr>\n",
       "    <tr>\n",
       "      <th>12153</th>\n",
       "      <td>0.000000</td>\n",
       "      <td>0.000000</td>\n",
       "      <td>0.004357</td>\n",
       "      <td>0.142857</td>\n",
       "      <td>0.214286</td>\n",
       "      <td>0.000000</td>\n",
       "      <td>0.0</td>\n",
       "      <td>12</td>\n",
       "      <td>3</td>\n",
       "      <td>2</td>\n",
       "      <td>1</td>\n",
       "      <td>20</td>\n",
       "      <td>New_Visitor</td>\n",
       "      <td>0</td>\n",
       "    </tr>\n",
       "    <tr>\n",
       "      <th>8359</th>\n",
       "      <td>0.000000</td>\n",
       "      <td>0.000000</td>\n",
       "      <td>0.018226</td>\n",
       "      <td>0.129630</td>\n",
       "      <td>0.222222</td>\n",
       "      <td>0.000000</td>\n",
       "      <td>0.0</td>\n",
       "      <td>12</td>\n",
       "      <td>2</td>\n",
       "      <td>5</td>\n",
       "      <td>3</td>\n",
       "      <td>1</td>\n",
       "      <td>Returning_Visitor</td>\n",
       "      <td>1</td>\n",
       "    </tr>\n",
       "    <tr>\n",
       "      <th>8743</th>\n",
       "      <td>0.042221</td>\n",
       "      <td>0.118853</td>\n",
       "      <td>0.034389</td>\n",
       "      <td>0.041667</td>\n",
       "      <td>0.138327</td>\n",
       "      <td>0.000000</td>\n",
       "      <td>0.0</td>\n",
       "      <td>11</td>\n",
       "      <td>1</td>\n",
       "      <td>1</td>\n",
       "      <td>1</td>\n",
       "      <td>2</td>\n",
       "      <td>Returning_Visitor</td>\n",
       "      <td>1</td>\n",
       "    </tr>\n",
       "    <tr>\n",
       "      <th>11400</th>\n",
       "      <td>0.003089</td>\n",
       "      <td>0.103849</td>\n",
       "      <td>0.157014</td>\n",
       "      <td>0.025126</td>\n",
       "      <td>0.115901</td>\n",
       "      <td>0.000000</td>\n",
       "      <td>0.0</td>\n",
       "      <td>12</td>\n",
       "      <td>2</td>\n",
       "      <td>2</td>\n",
       "      <td>1</td>\n",
       "      <td>2</td>\n",
       "      <td>Returning_Visitor</td>\n",
       "      <td>0</td>\n",
       "    </tr>\n",
       "    <tr>\n",
       "      <th>8840</th>\n",
       "      <td>0.019247</td>\n",
       "      <td>0.000000</td>\n",
       "      <td>0.029771</td>\n",
       "      <td>0.024242</td>\n",
       "      <td>0.130303</td>\n",
       "      <td>0.000000</td>\n",
       "      <td>0.0</td>\n",
       "      <td>11</td>\n",
       "      <td>1</td>\n",
       "      <td>1</td>\n",
       "      <td>2</td>\n",
       "      <td>8</td>\n",
       "      <td>Returning_Visitor</td>\n",
       "      <td>0</td>\n",
       "    </tr>\n",
       "    <tr>\n",
       "      <th>10633</th>\n",
       "      <td>0.000000</td>\n",
       "      <td>0.000000</td>\n",
       "      <td>0.001485</td>\n",
       "      <td>0.333333</td>\n",
       "      <td>0.666667</td>\n",
       "      <td>0.000000</td>\n",
       "      <td>0.0</td>\n",
       "      <td>11</td>\n",
       "      <td>1</td>\n",
       "      <td>1</td>\n",
       "      <td>9</td>\n",
       "      <td>3</td>\n",
       "      <td>Returning_Visitor</td>\n",
       "      <td>0</td>\n",
       "    </tr>\n",
       "    <tr>\n",
       "      <th>8426</th>\n",
       "      <td>0.000000</td>\n",
       "      <td>0.000000</td>\n",
       "      <td>0.010872</td>\n",
       "      <td>0.000000</td>\n",
       "      <td>0.500000</td>\n",
       "      <td>0.000000</td>\n",
       "      <td>0.0</td>\n",
       "      <td>11</td>\n",
       "      <td>2</td>\n",
       "      <td>2</td>\n",
       "      <td>4</td>\n",
       "      <td>1</td>\n",
       "      <td>Returning_Visitor</td>\n",
       "      <td>0</td>\n",
       "    </tr>\n",
       "  </tbody>\n",
       "</table>\n",
       "</div>\n",
       "    <div class=\"colab-df-buttons\">\n",
       "\n",
       "  <div class=\"colab-df-container\">\n",
       "    <button class=\"colab-df-convert\" onclick=\"convertToInteractive('df-64817eba-171a-4b3f-9c75-27dbeb5a7af0')\"\n",
       "            title=\"Convert this dataframe to an interactive table.\"\n",
       "            style=\"display:none;\">\n",
       "\n",
       "  <svg xmlns=\"http://www.w3.org/2000/svg\" height=\"24px\" viewBox=\"0 -960 960 960\">\n",
       "    <path d=\"M120-120v-720h720v720H120Zm60-500h600v-160H180v160Zm220 220h160v-160H400v160Zm0 220h160v-160H400v160ZM180-400h160v-160H180v160Zm440 0h160v-160H620v160ZM180-180h160v-160H180v160Zm440 0h160v-160H620v160Z\"/>\n",
       "  </svg>\n",
       "    </button>\n",
       "\n",
       "  <style>\n",
       "    .colab-df-container {\n",
       "      display:flex;\n",
       "      gap: 12px;\n",
       "    }\n",
       "\n",
       "    .colab-df-convert {\n",
       "      background-color: #E8F0FE;\n",
       "      border: none;\n",
       "      border-radius: 50%;\n",
       "      cursor: pointer;\n",
       "      display: none;\n",
       "      fill: #1967D2;\n",
       "      height: 32px;\n",
       "      padding: 0 0 0 0;\n",
       "      width: 32px;\n",
       "    }\n",
       "\n",
       "    .colab-df-convert:hover {\n",
       "      background-color: #E2EBFA;\n",
       "      box-shadow: 0px 1px 2px rgba(60, 64, 67, 0.3), 0px 1px 3px 1px rgba(60, 64, 67, 0.15);\n",
       "      fill: #174EA6;\n",
       "    }\n",
       "\n",
       "    .colab-df-buttons div {\n",
       "      margin-bottom: 4px;\n",
       "    }\n",
       "\n",
       "    [theme=dark] .colab-df-convert {\n",
       "      background-color: #3B4455;\n",
       "      fill: #D2E3FC;\n",
       "    }\n",
       "\n",
       "    [theme=dark] .colab-df-convert:hover {\n",
       "      background-color: #434B5C;\n",
       "      box-shadow: 0px 1px 3px 1px rgba(0, 0, 0, 0.15);\n",
       "      filter: drop-shadow(0px 1px 2px rgba(0, 0, 0, 0.3));\n",
       "      fill: #FFFFFF;\n",
       "    }\n",
       "  </style>\n",
       "\n",
       "    <script>\n",
       "      const buttonEl =\n",
       "        document.querySelector('#df-64817eba-171a-4b3f-9c75-27dbeb5a7af0 button.colab-df-convert');\n",
       "      buttonEl.style.display =\n",
       "        google.colab.kernel.accessAllowed ? 'block' : 'none';\n",
       "\n",
       "      async function convertToInteractive(key) {\n",
       "        const element = document.querySelector('#df-64817eba-171a-4b3f-9c75-27dbeb5a7af0');\n",
       "        const dataTable =\n",
       "          await google.colab.kernel.invokeFunction('convertToInteractive',\n",
       "                                                    [key], {});\n",
       "        if (!dataTable) return;\n",
       "\n",
       "        const docLinkHtml = 'Like what you see? Visit the ' +\n",
       "          '<a target=\"_blank\" href=https://colab.research.google.com/notebooks/data_table.ipynb>data table notebook</a>'\n",
       "          + ' to learn more about interactive tables.';\n",
       "        element.innerHTML = '';\n",
       "        dataTable['output_type'] = 'display_data';\n",
       "        await google.colab.output.renderOutput(dataTable, element);\n",
       "        const docLink = document.createElement('div');\n",
       "        docLink.innerHTML = docLinkHtml;\n",
       "        element.appendChild(docLink);\n",
       "      }\n",
       "    </script>\n",
       "  </div>\n",
       "\n",
       "\n",
       "<div id=\"df-0d6faf2f-4fc5-403e-b629-6c045b7a30cd\">\n",
       "  <button class=\"colab-df-quickchart\" onclick=\"quickchart('df-0d6faf2f-4fc5-403e-b629-6c045b7a30cd')\"\n",
       "            title=\"Suggest charts\"\n",
       "            style=\"display:none;\">\n",
       "\n",
       "<svg xmlns=\"http://www.w3.org/2000/svg\" height=\"24px\"viewBox=\"0 0 24 24\"\n",
       "     width=\"24px\">\n",
       "    <g>\n",
       "        <path d=\"M19 3H5c-1.1 0-2 .9-2 2v14c0 1.1.9 2 2 2h14c1.1 0 2-.9 2-2V5c0-1.1-.9-2-2-2zM9 17H7v-7h2v7zm4 0h-2V7h2v10zm4 0h-2v-4h2v4z\"/>\n",
       "    </g>\n",
       "</svg>\n",
       "  </button>\n",
       "\n",
       "<style>\n",
       "  .colab-df-quickchart {\n",
       "      --bg-color: #E8F0FE;\n",
       "      --fill-color: #1967D2;\n",
       "      --hover-bg-color: #E2EBFA;\n",
       "      --hover-fill-color: #174EA6;\n",
       "      --disabled-fill-color: #AAA;\n",
       "      --disabled-bg-color: #DDD;\n",
       "  }\n",
       "\n",
       "  [theme=dark] .colab-df-quickchart {\n",
       "      --bg-color: #3B4455;\n",
       "      --fill-color: #D2E3FC;\n",
       "      --hover-bg-color: #434B5C;\n",
       "      --hover-fill-color: #FFFFFF;\n",
       "      --disabled-bg-color: #3B4455;\n",
       "      --disabled-fill-color: #666;\n",
       "  }\n",
       "\n",
       "  .colab-df-quickchart {\n",
       "    background-color: var(--bg-color);\n",
       "    border: none;\n",
       "    border-radius: 50%;\n",
       "    cursor: pointer;\n",
       "    display: none;\n",
       "    fill: var(--fill-color);\n",
       "    height: 32px;\n",
       "    padding: 0;\n",
       "    width: 32px;\n",
       "  }\n",
       "\n",
       "  .colab-df-quickchart:hover {\n",
       "    background-color: var(--hover-bg-color);\n",
       "    box-shadow: 0 1px 2px rgba(60, 64, 67, 0.3), 0 1px 3px 1px rgba(60, 64, 67, 0.15);\n",
       "    fill: var(--button-hover-fill-color);\n",
       "  }\n",
       "\n",
       "  .colab-df-quickchart-complete:disabled,\n",
       "  .colab-df-quickchart-complete:disabled:hover {\n",
       "    background-color: var(--disabled-bg-color);\n",
       "    fill: var(--disabled-fill-color);\n",
       "    box-shadow: none;\n",
       "  }\n",
       "\n",
       "  .colab-df-spinner {\n",
       "    border: 2px solid var(--fill-color);\n",
       "    border-color: transparent;\n",
       "    border-bottom-color: var(--fill-color);\n",
       "    animation:\n",
       "      spin 1s steps(1) infinite;\n",
       "  }\n",
       "\n",
       "  @keyframes spin {\n",
       "    0% {\n",
       "      border-color: transparent;\n",
       "      border-bottom-color: var(--fill-color);\n",
       "      border-left-color: var(--fill-color);\n",
       "    }\n",
       "    20% {\n",
       "      border-color: transparent;\n",
       "      border-left-color: var(--fill-color);\n",
       "      border-top-color: var(--fill-color);\n",
       "    }\n",
       "    30% {\n",
       "      border-color: transparent;\n",
       "      border-left-color: var(--fill-color);\n",
       "      border-top-color: var(--fill-color);\n",
       "      border-right-color: var(--fill-color);\n",
       "    }\n",
       "    40% {\n",
       "      border-color: transparent;\n",
       "      border-right-color: var(--fill-color);\n",
       "      border-top-color: var(--fill-color);\n",
       "    }\n",
       "    60% {\n",
       "      border-color: transparent;\n",
       "      border-right-color: var(--fill-color);\n",
       "    }\n",
       "    80% {\n",
       "      border-color: transparent;\n",
       "      border-right-color: var(--fill-color);\n",
       "      border-bottom-color: var(--fill-color);\n",
       "    }\n",
       "    90% {\n",
       "      border-color: transparent;\n",
       "      border-bottom-color: var(--fill-color);\n",
       "    }\n",
       "  }\n",
       "</style>\n",
       "\n",
       "  <script>\n",
       "    async function quickchart(key) {\n",
       "      const quickchartButtonEl =\n",
       "        document.querySelector('#' + key + ' button');\n",
       "      quickchartButtonEl.disabled = true;  // To prevent multiple clicks.\n",
       "      quickchartButtonEl.classList.add('colab-df-spinner');\n",
       "      try {\n",
       "        const charts = await google.colab.kernel.invokeFunction(\n",
       "            'suggestCharts', [key], {});\n",
       "      } catch (error) {\n",
       "        console.error('Error during call to suggestCharts:', error);\n",
       "      }\n",
       "      quickchartButtonEl.classList.remove('colab-df-spinner');\n",
       "      quickchartButtonEl.classList.add('colab-df-quickchart-complete');\n",
       "    }\n",
       "    (() => {\n",
       "      let quickchartButtonEl =\n",
       "        document.querySelector('#df-0d6faf2f-4fc5-403e-b629-6c045b7a30cd button');\n",
       "      quickchartButtonEl.style.display =\n",
       "        google.colab.kernel.accessAllowed ? 'block' : 'none';\n",
       "    })();\n",
       "  </script>\n",
       "</div>\n",
       "    </div>\n",
       "  </div>\n"
      ],
      "text/plain": [
       "       Administrative_Duration  Informational_Duration  \\\n",
       "2811                  0.000000                0.000000   \n",
       "4466                  0.007473                0.000000   \n",
       "10593                 0.031543                0.000000   \n",
       "12153                 0.000000                0.000000   \n",
       "8359                  0.000000                0.000000   \n",
       "8743                  0.042221                0.118853   \n",
       "11400                 0.003089                0.103849   \n",
       "8840                  0.019247                0.000000   \n",
       "10633                 0.000000                0.000000   \n",
       "8426                  0.000000                0.000000   \n",
       "\n",
       "       ProductRelated_Duration  BounceRates  ExitRates  PageValues  \\\n",
       "2811                  0.006888     0.078947   0.232456    0.000000   \n",
       "4466                  0.046246     0.027027   0.109234    0.015693   \n",
       "10593                 0.008023     0.000000   0.060150    0.048502   \n",
       "12153                 0.004357     0.142857   0.214286    0.000000   \n",
       "8359                  0.018226     0.129630   0.222222    0.000000   \n",
       "8743                  0.034389     0.041667   0.138327    0.000000   \n",
       "11400                 0.157014     0.025126   0.115901    0.000000   \n",
       "8840                  0.029771     0.024242   0.130303    0.000000   \n",
       "10633                 0.001485     0.333333   0.666667    0.000000   \n",
       "8426                  0.010872     0.000000   0.500000    0.000000   \n",
       "\n",
       "       SpecialDay  Month  OperatingSystems  Browser  Region  TrafficType  \\\n",
       "2811          0.4      5                 2        5       3            3   \n",
       "4466          0.4      5                 2        5       2            3   \n",
       "10593         0.0     11                 2        2       1           10   \n",
       "12153         0.0     12                 3        2       1           20   \n",
       "8359          0.0     12                 2        5       3            1   \n",
       "8743          0.0     11                 1        1       1            2   \n",
       "11400         0.0     12                 2        2       1            2   \n",
       "8840          0.0     11                 1        1       2            8   \n",
       "10633         0.0     11                 1        1       9            3   \n",
       "8426          0.0     11                 2        2       4            1   \n",
       "\n",
       "             VisitorType  Weekend  \n",
       "2811   Returning_Visitor        0  \n",
       "4466   Returning_Visitor        0  \n",
       "10593  Returning_Visitor        0  \n",
       "12153        New_Visitor        0  \n",
       "8359   Returning_Visitor        1  \n",
       "8743   Returning_Visitor        1  \n",
       "11400  Returning_Visitor        0  \n",
       "8840   Returning_Visitor        0  \n",
       "10633  Returning_Visitor        0  \n",
       "8426   Returning_Visitor        0  "
      ]
     },
     "execution_count": 36,
     "metadata": {},
     "output_type": "execute_result"
    }
   ],
   "source": [
    "X_train.head(10)"
   ]
  },
  {
   "cell_type": "markdown",
   "id": "af9d0068-a0be-46e2-bd42-9599468e6b9d",
   "metadata": {
    "id": "af9d0068-a0be-46e2-bd42-9599468e6b9d"
   },
   "source": [
    "Kita akan menggunakan teknik SMOTE untuk mengatasi imbalance class"
   ]
  },
  {
   "cell_type": "code",
   "execution_count": 37,
   "id": "90776dcb-5d4b-4144-875a-0496ac6167d3",
   "metadata": {
    "id": "90776dcb-5d4b-4144-875a-0496ac6167d3"
   },
   "outputs": [],
   "source": [
    "from imblearn.over_sampling import SMOTE\n",
    "\n",
    "# Perform one-hot encoding on the categorical features\n",
    "X_encoded = pd.get_dummies(X)\n",
    "\n",
    "# Apply SMOTE on the encoding features and target var\n",
    "smote = SMOTE(sampling_strategy='minority')\n",
    "X_sm, y_sm = smote.fit_resample(X_encoded, y)\n",
    "\n",
    "# Convert the resampled target var to a pandas Series\n",
    "y_sm = pd.Series(y_sm)"
   ]
  },
  {
   "cell_type": "code",
   "execution_count": 38,
   "id": "04755114-e95c-4e3e-9463-26ddd315a712",
   "metadata": {
    "id": "04755114-e95c-4e3e-9463-26ddd315a712"
   },
   "outputs": [],
   "source": [
    "X_train, X_test, y_train, y_test = train_test_split(X_sm, y_sm, test_size = 0.2, random_state=15, stratify=y_sm)"
   ]
  },
  {
   "cell_type": "code",
   "execution_count": 39,
   "id": "b5830266-be42-4a48-949d-3ac1f928d392",
   "metadata": {
    "colab": {
     "base_uri": "https://localhost:8080/"
    },
    "id": "b5830266-be42-4a48-949d-3ac1f928d392",
    "outputId": "db4a9070-70f5-4187-ee59-b8edf50f52ca"
   },
   "outputs": [
    {
     "data": {
      "text/plain": [
       "0    8199\n",
       "1    8199\n",
       "Name: Revenue, dtype: int64"
      ]
     },
     "execution_count": 39,
     "metadata": {},
     "output_type": "execute_result"
    }
   ],
   "source": [
    "y_train.value_counts()"
   ]
  },
  {
   "cell_type": "markdown",
   "id": "25cbc76a-eca9-4139-bcfc-555f713f824d",
   "metadata": {
    "id": "25cbc76a-eca9-4139-bcfc-555f713f824d"
   },
   "source": [
    "### COMPARING MACHINE LEARNING MODELS"
   ]
  },
  {
   "cell_type": "code",
   "execution_count": 40,
   "id": "xMHKpTD8N90_",
   "metadata": {
    "colab": {
     "base_uri": "https://localhost:8080/"
    },
    "id": "xMHKpTD8N90_",
    "outputId": "33079f0c-40be-4302-871e-f8fab6d6775b"
   },
   "outputs": [
    {
     "name": "stdout",
     "output_type": "stream",
     "text": [
      "Collecting lazypredict\n",
      "  Downloading lazypredict-0.2.12-py2.py3-none-any.whl (12 kB)\n",
      "Requirement already satisfied: click in /usr/local/lib/python3.10/dist-packages (from lazypredict) (8.1.7)\n",
      "Requirement already satisfied: scikit-learn in /usr/local/lib/python3.10/dist-packages (from lazypredict) (1.2.2)\n",
      "Requirement already satisfied: pandas in /usr/local/lib/python3.10/dist-packages (from lazypredict) (1.5.3)\n",
      "Requirement already satisfied: tqdm in /usr/local/lib/python3.10/dist-packages (from lazypredict) (4.66.1)\n",
      "Requirement already satisfied: joblib in /usr/local/lib/python3.10/dist-packages (from lazypredict) (1.3.2)\n",
      "Requirement already satisfied: lightgbm in /usr/local/lib/python3.10/dist-packages (from lazypredict) (4.1.0)\n",
      "Requirement already satisfied: xgboost in /usr/local/lib/python3.10/dist-packages (from lazypredict) (2.0.2)\n",
      "Requirement already satisfied: numpy in /usr/local/lib/python3.10/dist-packages (from lightgbm->lazypredict) (1.23.5)\n",
      "Requirement already satisfied: scipy in /usr/local/lib/python3.10/dist-packages (from lightgbm->lazypredict) (1.11.3)\n",
      "Requirement already satisfied: python-dateutil>=2.8.1 in /usr/local/lib/python3.10/dist-packages (from pandas->lazypredict) (2.8.2)\n",
      "Requirement already satisfied: pytz>=2020.1 in /usr/local/lib/python3.10/dist-packages (from pandas->lazypredict) (2023.3.post1)\n",
      "Requirement already satisfied: threadpoolctl>=2.0.0 in /usr/local/lib/python3.10/dist-packages (from scikit-learn->lazypredict) (3.2.0)\n",
      "Requirement already satisfied: six>=1.5 in /usr/local/lib/python3.10/dist-packages (from python-dateutil>=2.8.1->pandas->lazypredict) (1.16.0)\n",
      "Installing collected packages: lazypredict\n",
      "Successfully installed lazypredict-0.2.12\n"
     ]
    }
   ],
   "source": [
    "pip install lazypredict"
   ]
  },
  {
   "cell_type": "code",
   "execution_count": 41,
   "id": "a56fb6ab-bf99-4a8e-b98a-df6241ca6ed8",
   "metadata": {
    "id": "a56fb6ab-bf99-4a8e-b98a-df6241ca6ed8"
   },
   "outputs": [],
   "source": [
    "from lazypredict.Supervised import LazyClassifier"
   ]
  },
  {
   "cell_type": "code",
   "execution_count": 42,
   "id": "995ed081-be0c-489b-8e57-77cf28a50fea",
   "metadata": {
    "id": "995ed081-be0c-489b-8e57-77cf28a50fea"
   },
   "outputs": [],
   "source": [
    "clf = LazyClassifier(verbose = 0, ignore_warnings=True, custom_metric=None)"
   ]
  },
  {
   "cell_type": "code",
   "execution_count": 43,
   "id": "40c52e32-e1f6-48c5-b9f5-c6e57454da08",
   "metadata": {
    "colab": {
     "base_uri": "https://localhost:8080/"
    },
    "id": "40c52e32-e1f6-48c5-b9f5-c6e57454da08",
    "outputId": "e5baed75-6ab5-47f3-8eb4-85100b76a048"
   },
   "outputs": [
    {
     "name": "stderr",
     "output_type": "stream",
     "text": [
      " 97%|█████████▋| 28/29 [02:00<00:02,  2.31s/it]"
     ]
    },
    {
     "name": "stdout",
     "output_type": "stream",
     "text": [
      "[LightGBM] [Info] Number of positive: 8199, number of negative: 8199\n",
      "[LightGBM] [Info] Auto-choosing row-wise multi-threading, the overhead of testing was 0.002893 seconds.\n",
      "You can set `force_row_wise=true` to remove the overhead.\n",
      "And if memory is not enough, you can set `force_col_wise=true`.\n",
      "[LightGBM] [Info] Total Bins 1862\n",
      "[LightGBM] [Info] Number of data points in the train set: 16398, number of used features: 16\n",
      "[LightGBM] [Info] [binary:BoostFromScore]: pavg=0.500000 -> initscore=0.000000\n"
     ]
    },
    {
     "name": "stderr",
     "output_type": "stream",
     "text": [
      "100%|██████████| 29/29 [02:01<00:00,  4.19s/it]"
     ]
    },
    {
     "name": "stdout",
     "output_type": "stream",
     "text": [
      "                               Accuracy  Balanced Accuracy  ROC AUC  F1 Score  \\\n",
      "Model                                                                           \n",
      "ExtraTreesClassifier               0.94               0.94     0.94      0.94   \n",
      "RandomForestClassifier             0.93               0.93     0.93      0.93   \n",
      "XGBClassifier                      0.92               0.92     0.92      0.92   \n",
      "BaggingClassifier                  0.92               0.92     0.92      0.92   \n",
      "LGBMClassifier                     0.92               0.92     0.92      0.92   \n",
      "LabelPropagation                   0.91               0.91     0.91      0.91   \n",
      "LabelSpreading                     0.91               0.91     0.91      0.91   \n",
      "AdaBoostClassifier                 0.90               0.90     0.90      0.90   \n",
      "KNeighborsClassifier               0.88               0.88     0.88      0.88   \n",
      "SVC                                0.88               0.88     0.88      0.88   \n",
      "DecisionTreeClassifier             0.88               0.88     0.88      0.88   \n",
      "ExtraTreeClassifier                0.88               0.88     0.88      0.88   \n",
      "LogisticRegression                 0.86               0.86     0.86      0.86   \n",
      "SGDClassifier                      0.86               0.86     0.86      0.86   \n",
      "CalibratedClassifierCV             0.85               0.85     0.85      0.85   \n",
      "NuSVC                              0.85               0.85     0.85      0.85   \n",
      "LinearSVC                          0.85               0.85     0.85      0.85   \n",
      "RidgeClassifier                    0.82               0.82     0.82      0.82   \n",
      "RidgeClassifierCV                  0.82               0.82     0.82      0.82   \n",
      "LinearDiscriminantAnalysis         0.82               0.82     0.82      0.82   \n",
      "BernoulliNB                        0.78               0.78     0.78      0.78   \n",
      "NearestCentroid                    0.76               0.76     0.76      0.76   \n",
      "Perceptron                         0.76               0.76     0.76      0.76   \n",
      "PassiveAggressiveClassifier        0.73               0.73     0.73      0.72   \n",
      "GaussianNB                         0.70               0.70     0.70      0.68   \n",
      "QuadraticDiscriminantAnalysis      0.55               0.55     0.55      0.45   \n",
      "DummyClassifier                    0.50               0.50     0.50      0.33   \n",
      "\n",
      "                               Time Taken  \n",
      "Model                                      \n",
      "ExtraTreesClassifier                 8.59  \n",
      "RandomForestClassifier               3.62  \n",
      "XGBClassifier                        1.27  \n",
      "BaggingClassifier                    1.06  \n",
      "LGBMClassifier                       0.65  \n",
      "LabelPropagation                    19.87  \n",
      "LabelSpreading                      24.64  \n",
      "AdaBoostClassifier                   1.07  \n",
      "KNeighborsClassifier                 1.73  \n",
      "SVC                                  8.94  \n",
      "DecisionTreeClassifier               0.48  \n",
      "ExtraTreeClassifier                  0.17  \n",
      "LogisticRegression                   0.10  \n",
      "SGDClassifier                        0.21  \n",
      "CalibratedClassifierCV              28.05  \n",
      "NuSVC                               18.23  \n",
      "LinearSVC                            1.86  \n",
      "RidgeClassifier                      0.10  \n",
      "RidgeClassifierCV                    0.20  \n",
      "LinearDiscriminantAnalysis           0.14  \n",
      "BernoulliNB                          0.05  \n",
      "NearestCentroid                      0.04  \n",
      "Perceptron                           0.06  \n",
      "PassiveAggressiveClassifier          0.05  \n",
      "GaussianNB                           0.08  \n",
      "QuadraticDiscriminantAnalysis        0.09  \n",
      "DummyClassifier                      0.06  \n"
     ]
    },
    {
     "name": "stderr",
     "output_type": "stream",
     "text": [
      "\n"
     ]
    }
   ],
   "source": [
    "models, prediction = clf.fit(X_train, X_test, y_train, y_test)\n",
    "\n",
    "print(models)"
   ]
  },
  {
   "cell_type": "code",
   "execution_count": 44,
   "id": "fa39d817-d3b0-47fb-98cf-160b2c6c17df",
   "metadata": {
    "colab": {
     "base_uri": "https://localhost:8080/"
    },
    "id": "fa39d817-d3b0-47fb-98cf-160b2c6c17df",
    "outputId": "d63b3200-a772-496c-e6b7-4b1166e6ea98"
   },
   "outputs": [
    {
     "name": "stdout",
     "output_type": "stream",
     "text": [
      "Accuracy : 0.925609756097561\n",
      "              precision    recall  f1-score   support\n",
      "\n",
      "           0       0.95      0.90      0.92      2050\n",
      "           1       0.91      0.95      0.93      2050\n",
      "\n",
      "    accuracy                           0.93      4100\n",
      "   macro avg       0.93      0.93      0.93      4100\n",
      "weighted avg       0.93      0.93      0.93      4100\n",
      "\n"
     ]
    }
   ],
   "source": [
    "from sklearn.ensemble import RandomForestClassifier\n",
    "from sklearn.metrics import accuracy_score, classification_report\n",
    "\n",
    "rf = RandomForestClassifier(n_estimators=1000, random_state=1)\n",
    "rf.fit(X_train, y_train)\n",
    "\n",
    "# Make prediction on the test set and evaluate model performance\n",
    "y_pred = rf.predict(X_test)\n",
    "accuracy = accuracy_score(y_test, y_pred)\n",
    "print(f'Accuracy : {accuracy}')\n",
    "print(classification_report(y_test, y_pred))"
   ]
  },
  {
   "cell_type": "code",
   "execution_count": 45,
   "id": "SmrZd_anPSND",
   "metadata": {
    "colab": {
     "base_uri": "https://localhost:8080/",
     "height": 480
    },
    "id": "SmrZd_anPSND",
    "outputId": "3fa8697e-26eb-4c2b-9864-df3b485e5ae9"
   },
   "outputs": [
    {
     "data": {
      "image/png": "[encoded data removed]",
      "text/plain": [
       "<Figure size 640x480 with 2 Axes>"
      ]
     },
     "metadata": {},
     "output_type": "display_data"
    }
   ],
   "source": [
    "from sklearn.metrics import confusion_matrix\n",
    "cm = confusion_matrix(y_test, y_pred)\n",
    "\n",
    "# Plot the confusion matrix as a heatmap\n",
    "sns.heatmap(cm, annot=True, fmt='d', cmap=\"autumn\")\n",
    "plt.title(\"Confusion Matrix\")\n",
    "plt.xlabel(\"Predicted Label\")\n",
    "plt.ylabel(\"true Label\")\n",
    "plt.show()"
   ]
  },
  {
   "cell_type": "code",
   "execution_count": 46,
   "id": "2BdVyjegP8B2",
   "metadata": {
    "id": "2BdVyjegP8B2"
   },
   "outputs": [],
   "source": [
    "from sklearn.ensemble import ExtraTreesClassifier\n",
    "from sklearn.datasets import make_classification"
   ]
  },
  {
   "cell_type": "code",
   "execution_count": 47,
   "id": "WD-Zu83wQxMP",
   "metadata": {
    "colab": {
     "base_uri": "https://localhost:8080/"
    },
    "id": "WD-Zu83wQxMP",
    "outputId": "c14b136d-ea15-4b71-cfec-6e4a018327a0"
   },
   "outputs": [
    {
     "name": "stdout",
     "output_type": "stream",
     "text": [
      "Extra Trees Accuracy :  0.937560975609756\n",
      "Accuracy : 0.937560975609756\n",
      "              precision    recall  f1-score   support\n",
      "\n",
      "           0       0.96      0.91      0.94      2050\n",
      "           1       0.92      0.96      0.94      2050\n",
      "\n",
      "    accuracy                           0.94      4100\n",
      "   macro avg       0.94      0.94      0.94      4100\n",
      "weighted avg       0.94      0.94      0.94      4100\n",
      "\n"
     ]
    }
   ],
   "source": [
    "et = ExtraTreesClassifier(n_estimators=100, random_state = 42)\n",
    "et.fit(X_train, y_train)\n",
    "y_pred = et.predict(X_test)\n",
    "accuracy_et = accuracy_score(y_test, y_pred)\n",
    "print('Extra Trees Accuracy : ', accuracy_et)\n",
    "\n",
    "print(f'Accuracy : {accuracy_et}')\n",
    "print(classification_report(y_test, y_pred))"
   ]
  },
  {
   "cell_type": "code",
   "execution_count": 48,
   "id": "J7FfLoRCRQJV",
   "metadata": {
    "colab": {
     "base_uri": "https://localhost:8080/",
     "height": 480
    },
    "id": "J7FfLoRCRQJV",
    "outputId": "a0e27794-66ff-445b-c5ac-478240d6fbf9"
   },
   "outputs": [
    {
     "data": {
      "image/png": "[encoded data removed]",
      "text/plain": [
       "<Figure size 640x480 with 2 Axes>"
      ]
     },
     "metadata": {},
     "output_type": "display_data"
    }
   ],
   "source": [
    "cm = confusion_matrix(y_test, y_pred)\n",
    "\n",
    "# Plot the confusion matrix as a heatmap\n",
    "sns.heatmap(cm, annot=True, fmt='d', cmap=\"autumn\")\n",
    "plt.title(\"Confusion Matrix\")\n",
    "plt.xlabel(\"Predicted Label\")\n",
    "plt.ylabel(\"true Label\")\n",
    "plt.show()"
   ]
  },
  {
   "cell_type": "markdown",
   "id": "vua6-J8OSFZr",
   "metadata": {
    "id": "vua6-J8OSFZr"
   },
   "source": [
    "Maka kita akan memilih model Extra Trees Classifier karena memiliki tingkat akurasi paling tinggi yaitu 94%!"
   ]
  },
  {
   "cell_type": "markdown",
   "id": "z_HneaYznOgo",
   "metadata": {
    "id": "z_HneaYznOgo"
   },
   "source": [
    "Time to Test!"
   ]
  },
  {
   "cell_type": "code",
   "execution_count": 49,
   "id": "uqbagX5vRl77",
   "metadata": {
    "colab": {
     "base_uri": "https://localhost:8080/"
    },
    "id": "uqbagX5vRl77",
    "outputId": "1cae9c88-0be8-49dc-bcc8-be12255e849a"
   },
   "outputs": [
    {
     "data": {
      "text/plain": [
       "Index(['Administrative_Duration', 'Informational_Duration',\n",
       "       'ProductRelated_Duration', 'BounceRates', 'ExitRates', 'PageValues',\n",
       "       'SpecialDay', 'Month', 'OperatingSystems', 'Browser', 'Region',\n",
       "       'TrafficType', 'VisitorType', 'Weekend', 'Revenue'],\n",
       "      dtype='object')"
      ]
     },
     "execution_count": 49,
     "metadata": {},
     "output_type": "execute_result"
    }
   ],
   "source": [
    "df.columns"
   ]
  },
  {
   "cell_type": "markdown",
   "id": "FTXRyVD6oXjE",
   "metadata": {
    "id": "FTXRyVD6oXjE"
   },
   "source": [
    "Kita akan memasukkan data baru berupa inputan user dan memprediksi apakah pelanggan tersebut akan membeli atau tidak."
   ]
  },
  {
   "cell_type": "code",
   "execution_count": 52,
   "id": "tIJOtLJXnU8H",
   "metadata": {
    "colab": {
     "base_uri": "https://localhost:8080/"
    },
    "id": "tIJOtLJXnU8H",
    "outputId": "aa3256ba-6a45-40f6-c5c8-a678d1730dc9"
   },
   "outputs": [
    {
     "name": "stdout",
     "output_type": "stream",
     "text": [
      "[0]\n"
     ]
    }
   ],
   "source": [
    "# Define user input as dictionary\n",
    "user_input = {'Administrative_Duration': 50,\n",
    "              'Informational_Duration': 100,\n",
    "              'ProductRelated_Duration': 200,\n",
    "              'BounceRates': 0.05,\n",
    "              'ExitRates': 0.1,\n",
    "              'PageValues': 20,\n",
    "              'SpecialDay': 0,\n",
    "              'Month': 7,\n",
    "              'OperatingSystems': 0,\n",
    "              'Browser': 0,\n",
    "              'Region': 0,\n",
    "              'TrafficType': 1,\n",
    "              'VisitorType': 'New_Visitor',\n",
    "              'Weekend': 1}\n",
    "\n",
    "# Create DataFrame from the user input dict\n",
    "user_df = pd.DataFrame.from_dict(user_input, orient='index').T\n",
    "\n",
    "# Map VisitatorType to binary columns\n",
    "visitor_type_mapping = {\n",
    "    'New_Visitor' : 1,\n",
    "    'Other' : 0,\n",
    "    'Returning_Visitor' : 0\n",
    "}\n",
    "\n",
    "user_df['VisitorType_New_Visitor'] = user_df['VisitorType'].map(visitor_type_mapping)\n",
    "user_df['VisitorType_Other'] = user_df['VisitorType'].map(visitor_type_mapping)\n",
    "user_df['VisitorType_Returning_Visitor'] = user_df['VisitorType'].map(visitor_type_mapping)\n",
    "\n",
    "# Drope the original Visitor type Column\n",
    "user_df.drop('VisitorType', axis = 1, inplace = True)\n",
    "\n",
    "# Make a predicition for the user input\n",
    "predicition = et.predict(user_df)\n",
    "print(predicition)"
   ]
  },
  {
   "cell_type": "markdown",
   "id": "X9GCDv4yq9P6",
   "metadata": {
    "id": "X9GCDv4yq9P6"
   },
   "source": [
    "Dari input yang diberikan, terbukti bahwa pelanggan tidak mungkin melalukan pembelian secara online.\n",
    "\n",
    "Kita dapat memberikan model set input yang berbeda dan memprediksi apakah pelanggan yang mengunjungi situs web belanja online akan melakukan pembelian atau tidak."
   ]
  },
  {
   "cell_type": "markdown",
   "id": "dud1MyplrTw0",
   "metadata": {
    "id": "dud1MyplrTw0"
   },
   "source": [
    "**Note :** Prediksi tergantung pada akurasi model yang digunakan, pada kasus ini akurasi prediksi sekitar **94%!**"
   ]
  }
 ],
 "metadata": {
  "colab": {
   "provenance": []
  },
  "kernelspec": {
   "display_name": "Python 3 (ipykernel)",
   "language": "python",
   "name": "python3"
  },
  "language_info": {
   "codemirror_mode": {
    "name": "ipython",
    "version": 3
   },
   "file_extension": ".py",
   "mimetype": "text/x-python",
   "name": "python",
   "nbconvert_exporter": "python",
   "pygments_lexer": "ipython3",
   "version": "3.11.5"
  }
 },
 "nbformat": 4,
 "nbformat_minor": 5
}
